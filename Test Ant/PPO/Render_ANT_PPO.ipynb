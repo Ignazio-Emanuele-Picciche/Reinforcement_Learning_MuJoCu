{
 "cells": [
  {
   "cell_type": "code",
   "execution_count": 1,
   "metadata": {},
   "outputs": [],
   "source": [
    "import gymnasium as gym\n",
    "from stable_baselines3 import PPO\n",
    "import time\n",
    "\n",
    "import imageio\n",
    "from IPython.display import Video, display # per visualizzarlo\n",
    "import os"
   ]
  },
  {
   "cell_type": "code",
   "execution_count": 2,
   "metadata": {},
   "outputs": [],
   "source": [
    "# Ipreparametri dell'envrionment\n",
    "hp_reset_noise_scale= 0.06976748570068636 # scala del rumore quando l'ambiente viene resettato \n",
    "hp_forward_reward_weight = 1.7031840270142826 # peso del reward per il movimento in avanti\n",
    "hp_ctrl_cost_weight = 1.3736559851030032 # peso del reward per il controllo\n",
    "hp_healthy_reward = 2.370527088282008 # reward per la salute\n",
    "\n",
    "hp_contact_cost_weight = 5.099569789843523e-05\n",
    "healthy_z = (0.27002630801618377, 1.2006270382609852)\n",
    "contact_force = (-1.1373782536958372, 1.9183153315908629)"
   ]
  },
  {
   "cell_type": "code",
   "execution_count": 3,
   "metadata": {},
   "outputs": [
    {
     "data": {
      "text/plain": [
       "'\\nQuesto snippet di codice inizializza un ambiente Gym per il compito \"Ant-v5\" con specifici iperparametri.\\n\\nParametri:\\n- reset_noise_scale (float): Scala del rumore aggiunto allo stato iniziale durante il reset dell\\'ambiente.\\n- forward_reward_weight (float): Peso della ricompensa per il movimento in avanti.\\n- ctrl_cost_weight (float): Peso del costo associato alle azioni di controllo.\\n- healthy_reward (float): Ricompensa per mantenere uno stato di salute.\\n- contact_cost_weight (float): Peso del costo associato alle forze di contatto.\\n- healthy_z_range (tuple): Intervallo di valori z considerati sani per l\\'agente.\\n- contact_force_range (tuple): Intervallo di forze di contatto considerate accettabili.\\n- render_mode (str): Modalità di rendering dell\\'ambiente, impostata su \\'human\\' per il rendering visivo.\\n\\nQuesta configurazione è tipicamente utilizzata negli esperimenti di apprendimento per rinforzo per addestrare e valutare agenti nell\\'ambiente \"Ant-v5\".\\n'"
      ]
     },
     "execution_count": 3,
     "metadata": {},
     "output_type": "execute_result"
    }
   ],
   "source": [
    "env_render = gym.make(\n",
    "    \"Ant-v5\",\n",
    "    reset_noise_scale=hp_reset_noise_scale,\n",
    "    forward_reward_weight=hp_forward_reward_weight,\n",
    "    ctrl_cost_weight=hp_ctrl_cost_weight,\n",
    "    healthy_reward=hp_healthy_reward,\n",
    "    contact_cost_weight=hp_contact_cost_weight,\n",
    "    healthy_z_range=healthy_z,\n",
    "    contact_force_range=contact_force,\n",
    "    render_mode='rgb_array'\n",
    ")\n",
    "\"\"\"\n",
    "Questo snippet di codice inizializza un ambiente Gym per il compito \"Ant-v5\" con specifici iperparametri.\n",
    "\n",
    "Parametri:\n",
    "- reset_noise_scale (float): Scala del rumore aggiunto allo stato iniziale durante il reset dell'ambiente.\n",
    "- forward_reward_weight (float): Peso della ricompensa per il movimento in avanti.\n",
    "- ctrl_cost_weight (float): Peso del costo associato alle azioni di controllo.\n",
    "- healthy_reward (float): Ricompensa per mantenere uno stato di salute.\n",
    "- contact_cost_weight (float): Peso del costo associato alle forze di contatto.\n",
    "- healthy_z_range (tuple): Intervallo di valori z considerati sani per l'agente.\n",
    "- contact_force_range (tuple): Intervallo di forze di contatto considerate accettabili.\n",
    "- render_mode (str): Modalità di rendering dell'ambiente, impostata su 'human' per il rendering visivo.\n",
    "\n",
    "Questa configurazione è tipicamente utilizzata negli esperimenti di apprendimento per rinforzo per addestrare e valutare agenti nell'ambiente \"Ant-v5\".\n",
    "\"\"\""
   ]
  },
  {
   "cell_type": "code",
   "execution_count": 4,
   "metadata": {},
   "outputs": [],
   "source": [
    "env_render.training = False # Setta l'environment in modalità di valutazione\n",
    "env_render.norm_reward = False # Disabilita la normalizzazione della reward. Questo è importante per valutare correttamente il modello."
   ]
  },
  {
   "cell_type": "code",
   "execution_count": 5,
   "metadata": {},
   "outputs": [
    {
     "name": "stdout",
     "output_type": "stream",
     "text": [
      "Timer raggiunto, interrompo il rendering.\n"
     ]
    }
   ],
   "source": [
    "# Carica il modello salvato\n",
    "model = PPO.load(\"ppo_Ant_model_PPO15\")\n",
    "\n",
    "# Reset dell'ambiente e inizializzazione delle variabili\n",
    "obs, _ = env_render.reset()\n",
    "done = False\n",
    "frames = []\n",
    "\n",
    "# Imposta il timer (durata in secondi)\n",
    "max_duration = 25 \n",
    "start_time = time.time()\n",
    "\n",
    "# Loop di esecuzione fino a quando l'episodio non è terminato o il timer scade\n",
    "while not done:\n",
    "    # Predice l'azione basata sull'osservazione corrente\n",
    "    action, _ = model.predict(obs)\n",
    "    \n",
    "    # Esegue l'azione nell'ambiente e ottiene la nuova osservazione e lo stato di completamento\n",
    "    obs, _, done, _, _ = env_render.step(action)\n",
    "    \n",
    "    # Renderizza l'ambiente e salva il frame\n",
    "    frame = env_render.render()\n",
    "    frames.append(frame)\n",
    "    \n",
    "    # Pausa per rendere il rendering visibile\n",
    "    time.sleep(0.01)\n",
    "    \n",
    "    # Controlla se il tempo massimo è stato raggiunto\n",
    "    if time.time() - start_time >= max_duration:\n",
    "        print(\"Timer raggiunto, interrompo il rendering.\")\n",
    "        break    "
   ]
  },
  {
   "cell_type": "code",
   "execution_count": null,
   "metadata": {},
   "outputs": [],
   "source": []
  },
  {
   "cell_type": "code",
   "execution_count": 6,
   "metadata": {},
   "outputs": [
    {
     "name": "stdout",
     "output_type": "stream",
     "text": [
      "Rendering video e GIF completato.\n"
     ]
    }
   ],
   "source": [
    "# Specifica la cartella di destinazione\n",
    "output_dir = '../../myLib/Ant_media'\n",
    "os.makedirs(output_dir, exist_ok=True)\n",
    "output_video_path = os.path.join(output_dir, 'rendering_ant_ppo15.mp4')\n",
    "output_gif_path = os.path.join(output_dir, 'rendering_ant_ppo15.gif')\n",
    "\n",
    "# Converti i frame in ndarray\n",
    "frames_ndarray = [frame for frame in frames if frame is not None]\n",
    "\n",
    "# Verifica che ci siano frame validi\n",
    "if not frames_ndarray:\n",
    "    raise ValueError(\"Nessun frame valido catturato durante il rendering.\")\n",
    "\n",
    "# Salva i frame come video usando imageio (assicurati di avere ffmpeg installato)\n",
    "with imageio.get_writer(output_video_path, fps=30) as video_writer:\n",
    "    for frame in frames_ndarray:\n",
    "        video_writer.append_data(frame)\n",
    "\n",
    "# Salva i frame come GIF\n",
    "imageio.mimsave(output_gif_path, frames_ndarray, fps=30)\n",
    "\n",
    "print(\"Rendering video e GIF completato.\")"
   ]
  },
  {
   "cell_type": "code",
   "execution_count": null,
   "metadata": {},
   "outputs": [],
   "source": []
  }
 ],
 "metadata": {
  "kernelspec": {
   "display_name": ".venv",
   "language": "python",
   "name": "python3"
  },
  "language_info": {
   "codemirror_mode": {
    "name": "ipython",
    "version": 3
   },
   "file_extension": ".py",
   "mimetype": "text/x-python",
   "name": "python",
   "nbconvert_exporter": "python",
   "pygments_lexer": "ipython3",
   "version": "3.10.16"
  }
 },
 "nbformat": 4,
 "nbformat_minor": 2
}
