{
 "cells": [
  {
   "cell_type": "code",
   "execution_count": null,
   "metadata": {},
   "outputs": [],
   "source": [
    "import gymnasium as gym\n",
    "from stable_baselines3 import TD3\n",
    "import time"
   ]
  },
  {
   "cell_type": "code",
   "execution_count": null,
   "metadata": {},
   "outputs": [],
   "source": [
    "# Parametri dell'ambiente\n",
    "hp_reset_noise_scale = 0.04759391555142866  # Scala del rumore quando l'ambiente viene resettato\n",
    "hp_forward_reward_weight = 1.895790973082321  # Peso della ricompensa per il movimento in avanti\n",
    "hp_ctrl_cost_weight = 1.5077149854491863  # Peso del costo di controllo del robot\n",
    "hp_healthy_reward = 2.4052783506228486  # Ricompensa per mantenere lo stato \"sano\"\n",
    "hp_contact_cost_weight = 6.97442897111752e-05  # Peso del costo per i contatti\n",
    "hp_healthy_z_lower = 0.38253131966695203  # Altezza minima considerata \"sana\"\n",
    "hp_healthy_z_upper = 1.1546046945435202  # Altezza massima considerata \"sana\"\n",
    "hp_contact_force_min = -1.254958844476713  # Forza minima di contatto considerata\n",
    "hp_contact_force_max = 0.9972723819502675  # Forza massima di contatto considerata\n",
    "hp_healthy_z_range=(hp_healthy_z_lower, hp_healthy_z_upper)\n",
    "hp_contact_force_range=(hp_contact_force_min, hp_contact_force_max)"
   ]
  },
  {
   "cell_type": "code",
   "execution_count": null,
   "metadata": {},
   "outputs": [],
   "source": [
    "env_render = gym.make(\n",
    "    \"Ant-v5\",\n",
    "    reset_noise_scale=hp_reset_noise_scale,\n",
    "    forward_reward_weight=hp_forward_reward_weight,\n",
    "    ctrl_cost_weight=hp_ctrl_cost_weight,\n",
    "    healthy_reward=hp_healthy_reward,\n",
    "    contact_cost_weight=hp_contact_cost_weight,\n",
    "    healthy_z_range=hp_healthy_z_range,\n",
    "    contact_force_range=hp_contact_force_range,\n",
    "    render_mode='human'\n",
    ")"
   ]
  },
  {
   "cell_type": "code",
   "execution_count": null,
   "metadata": {},
   "outputs": [],
   "source": [
    "env_render.training = False # Setta l'environment in modalità di valutazione\n",
    "env_render.norm_reward = False # Disabilita la normalizzazione della reward. Questo è importante per valutare correttamente il modello."
   ]
  },
  {
   "cell_type": "code",
   "execution_count": null,
   "metadata": {},
   "outputs": [],
   "source": [
    "model = TD3.load(\"td3_Ant_model\")  # Carica il modello salvato\n",
    "obs, _ = env_render.reset()\n",
    "done = False\n",
    "while not done:\n",
    "    action, _ = model.predict(obs)  # Use obs directly\n",
    "    obs, _, done, _, _ = env_render.step(action)  # Unpack the tuple correctly\n",
    "    env_render.render()\n",
    "    time.sleep(0.01)\n",
    "env_render.close()"
   ]
  }
 ],
 "metadata": {
  "kernelspec": {
   "display_name": ".venv",
   "language": "python",
   "name": "python3"
  },
  "language_info": {
   "name": "python",
   "version": "3.10.16"
  }
 },
 "nbformat": 4,
 "nbformat_minor": 2
}
