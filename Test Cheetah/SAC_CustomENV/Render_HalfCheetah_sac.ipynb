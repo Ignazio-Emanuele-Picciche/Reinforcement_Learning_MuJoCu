{
 "cells": [
  {
   "cell_type": "code",
   "execution_count": 1,
   "metadata": {},
   "outputs": [
    {
     "name": "stderr",
     "output_type": "stream",
     "text": [
      "2025-02-23 23:22:19.796 Python[67394:4201113] +[IMKClient subclass]: chose IMKClient_Modern\n",
      "2025-02-23 23:22:19.796 Python[67394:4201113] +[IMKInputSession subclass]: chose IMKInputSession_Modern\n"
     ]
    },
    {
     "ename": "KeyboardInterrupt",
     "evalue": "",
     "output_type": "error",
     "traceback": [
      "\u001B[0;31m---------------------------------------------------------------------------\u001B[0m",
      "\u001B[0;31mKeyboardInterrupt\u001B[0m                         Traceback (most recent call last)",
      "Cell \u001B[0;32mIn[1], line 31\u001B[0m\n\u001B[1;32m     29\u001B[0m action, _ \u001B[38;5;241m=\u001B[39m model\u001B[38;5;241m.\u001B[39mpredict(obs)\n\u001B[1;32m     30\u001B[0m obs, rewards, dones, infos \u001B[38;5;241m=\u001B[39m render_env\u001B[38;5;241m.\u001B[39mstep(action)  \u001B[38;5;66;03m# Corretto: 4 valori\u001B[39;00m\n\u001B[0;32m---> 31\u001B[0m \u001B[43mrender_env\u001B[49m\u001B[38;5;241;43m.\u001B[39;49m\u001B[43mrender\u001B[49m\u001B[43m(\u001B[49m\u001B[43m)\u001B[49m  \u001B[38;5;66;03m# Mostra l'ambiente a schermo (se render_mode='human')\u001B[39;00m\n\u001B[1;32m     32\u001B[0m time\u001B[38;5;241m.\u001B[39msleep(\u001B[38;5;241m0.01\u001B[39m)\n\u001B[1;32m     34\u001B[0m \u001B[38;5;66;03m# Gestione del 'done' (dones può essere un array anche con 1 solo env)\u001B[39;00m\n",
      "File \u001B[0;32m~/Desktop/campus bio iscrizione/ Magistrale/Merone/RL/Reinforcement_Learning_Ant_MuJoCu/venv/lib/python3.10/site-packages/stable_baselines3/common/vec_env/base_vec_env.py:390\u001B[0m, in \u001B[0;36mVecEnvWrapper.render\u001B[0;34m(self, mode)\u001B[0m\n\u001B[1;32m    389\u001B[0m \u001B[38;5;28;01mdef\u001B[39;00m\u001B[38;5;250m \u001B[39m\u001B[38;5;21mrender\u001B[39m(\u001B[38;5;28mself\u001B[39m, mode: Optional[\u001B[38;5;28mstr\u001B[39m] \u001B[38;5;241m=\u001B[39m \u001B[38;5;28;01mNone\u001B[39;00m) \u001B[38;5;241m-\u001B[39m\u001B[38;5;241m>\u001B[39m Optional[np\u001B[38;5;241m.\u001B[39mndarray]:\n\u001B[0;32m--> 390\u001B[0m     \u001B[38;5;28;01mreturn\u001B[39;00m \u001B[38;5;28;43mself\u001B[39;49m\u001B[38;5;241;43m.\u001B[39;49m\u001B[43mvenv\u001B[49m\u001B[38;5;241;43m.\u001B[39;49m\u001B[43mrender\u001B[49m\u001B[43m(\u001B[49m\u001B[43mmode\u001B[49m\u001B[38;5;241;43m=\u001B[39;49m\u001B[43mmode\u001B[49m\u001B[43m)\u001B[49m\n",
      "File \u001B[0;32m~/Desktop/campus bio iscrizione/ Magistrale/Merone/RL/Reinforcement_Learning_Ant_MuJoCu/venv/lib/python3.10/site-packages/stable_baselines3/common/vec_env/dummy_vec_env.py:104\u001B[0m, in \u001B[0;36mDummyVecEnv.render\u001B[0;34m(self, mode)\u001B[0m\n\u001B[1;32m     97\u001B[0m \u001B[38;5;28;01mdef\u001B[39;00m\u001B[38;5;250m \u001B[39m\u001B[38;5;21mrender\u001B[39m(\u001B[38;5;28mself\u001B[39m, mode: Optional[\u001B[38;5;28mstr\u001B[39m] \u001B[38;5;241m=\u001B[39m \u001B[38;5;28;01mNone\u001B[39;00m) \u001B[38;5;241m-\u001B[39m\u001B[38;5;241m>\u001B[39m Optional[np\u001B[38;5;241m.\u001B[39mndarray]:\n\u001B[1;32m     98\u001B[0m \u001B[38;5;250m    \u001B[39m\u001B[38;5;124;03m\"\"\"\u001B[39;00m\n\u001B[1;32m     99\u001B[0m \u001B[38;5;124;03m    Gym environment rendering. If there are multiple environments then\u001B[39;00m\n\u001B[1;32m    100\u001B[0m \u001B[38;5;124;03m    they are tiled together in one image via ``BaseVecEnv.render()``.\u001B[39;00m\n\u001B[1;32m    101\u001B[0m \n\u001B[1;32m    102\u001B[0m \u001B[38;5;124;03m    :param mode: The rendering type.\u001B[39;00m\n\u001B[1;32m    103\u001B[0m \u001B[38;5;124;03m    \"\"\"\u001B[39;00m\n\u001B[0;32m--> 104\u001B[0m     \u001B[38;5;28;01mreturn\u001B[39;00m \u001B[38;5;28;43msuper\u001B[39;49m\u001B[43m(\u001B[49m\u001B[43m)\u001B[49m\u001B[38;5;241;43m.\u001B[39;49m\u001B[43mrender\u001B[49m\u001B[43m(\u001B[49m\u001B[43mmode\u001B[49m\u001B[38;5;241;43m=\u001B[39;49m\u001B[43mmode\u001B[49m\u001B[43m)\u001B[49m\n",
      "File \u001B[0;32m~/Desktop/campus bio iscrizione/ Magistrale/Merone/RL/Reinforcement_Learning_Ant_MuJoCu/venv/lib/python3.10/site-packages/stable_baselines3/common/vec_env/base_vec_env.py:251\u001B[0m, in \u001B[0;36mVecEnv.render\u001B[0;34m(self, mode)\u001B[0m\n\u001B[1;32m    247\u001B[0m \u001B[38;5;66;03m# mode == self.render_mode == \"human\"\u001B[39;00m\n\u001B[1;32m    248\u001B[0m \u001B[38;5;66;03m# In that case, we try to call `self.env.render()` but it might\u001B[39;00m\n\u001B[1;32m    249\u001B[0m \u001B[38;5;66;03m# crash for subprocesses\u001B[39;00m\n\u001B[1;32m    250\u001B[0m \u001B[38;5;28;01mif\u001B[39;00m \u001B[38;5;28mself\u001B[39m\u001B[38;5;241m.\u001B[39mrender_mode \u001B[38;5;241m==\u001B[39m \u001B[38;5;124m\"\u001B[39m\u001B[38;5;124mhuman\u001B[39m\u001B[38;5;124m\"\u001B[39m:\n\u001B[0;32m--> 251\u001B[0m     \u001B[38;5;28;43mself\u001B[39;49m\u001B[38;5;241;43m.\u001B[39;49m\u001B[43menv_method\u001B[49m\u001B[43m(\u001B[49m\u001B[38;5;124;43m\"\u001B[39;49m\u001B[38;5;124;43mrender\u001B[39;49m\u001B[38;5;124;43m\"\u001B[39;49m\u001B[43m)\u001B[49m\n\u001B[1;32m    252\u001B[0m     \u001B[38;5;28;01mreturn\u001B[39;00m \u001B[38;5;28;01mNone\u001B[39;00m\n\u001B[1;32m    254\u001B[0m \u001B[38;5;28;01mif\u001B[39;00m mode \u001B[38;5;241m==\u001B[39m \u001B[38;5;124m\"\u001B[39m\u001B[38;5;124mrgb_array\u001B[39m\u001B[38;5;124m\"\u001B[39m \u001B[38;5;129;01mor\u001B[39;00m mode \u001B[38;5;241m==\u001B[39m \u001B[38;5;124m\"\u001B[39m\u001B[38;5;124mhuman\u001B[39m\u001B[38;5;124m\"\u001B[39m:\n\u001B[1;32m    255\u001B[0m     \u001B[38;5;66;03m# call the render method of the environments\u001B[39;00m\n",
      "File \u001B[0;32m~/Desktop/campus bio iscrizione/ Magistrale/Merone/RL/Reinforcement_Learning_Ant_MuJoCu/venv/lib/python3.10/site-packages/stable_baselines3/common/vec_env/dummy_vec_env.py:130\u001B[0m, in \u001B[0;36mDummyVecEnv.env_method\u001B[0;34m(self, method_name, indices, *method_args, **method_kwargs)\u001B[0m\n\u001B[1;32m    128\u001B[0m \u001B[38;5;250m\u001B[39m\u001B[38;5;124;03m\"\"\"Call instance methods of vectorized environments.\"\"\"\u001B[39;00m\n\u001B[1;32m    129\u001B[0m target_envs \u001B[38;5;241m=\u001B[39m \u001B[38;5;28mself\u001B[39m\u001B[38;5;241m.\u001B[39m_get_target_envs(indices)\n\u001B[0;32m--> 130\u001B[0m \u001B[38;5;28;01mreturn\u001B[39;00m [env_i\u001B[38;5;241m.\u001B[39mget_wrapper_attr(method_name)(\u001B[38;5;241m*\u001B[39mmethod_args, \u001B[38;5;241m*\u001B[39m\u001B[38;5;241m*\u001B[39mmethod_kwargs) \u001B[38;5;28;01mfor\u001B[39;00m env_i \u001B[38;5;129;01min\u001B[39;00m target_envs]\n",
      "File \u001B[0;32m~/Desktop/campus bio iscrizione/ Magistrale/Merone/RL/Reinforcement_Learning_Ant_MuJoCu/venv/lib/python3.10/site-packages/stable_baselines3/common/vec_env/dummy_vec_env.py:130\u001B[0m, in \u001B[0;36m<listcomp>\u001B[0;34m(.0)\u001B[0m\n\u001B[1;32m    128\u001B[0m \u001B[38;5;250m\u001B[39m\u001B[38;5;124;03m\"\"\"Call instance methods of vectorized environments.\"\"\"\u001B[39;00m\n\u001B[1;32m    129\u001B[0m target_envs \u001B[38;5;241m=\u001B[39m \u001B[38;5;28mself\u001B[39m\u001B[38;5;241m.\u001B[39m_get_target_envs(indices)\n\u001B[0;32m--> 130\u001B[0m \u001B[38;5;28;01mreturn\u001B[39;00m [\u001B[43menv_i\u001B[49m\u001B[38;5;241;43m.\u001B[39;49m\u001B[43mget_wrapper_attr\u001B[49m\u001B[43m(\u001B[49m\u001B[43mmethod_name\u001B[49m\u001B[43m)\u001B[49m\u001B[43m(\u001B[49m\u001B[38;5;241;43m*\u001B[39;49m\u001B[43mmethod_args\u001B[49m\u001B[43m,\u001B[49m\u001B[43m \u001B[49m\u001B[38;5;241;43m*\u001B[39;49m\u001B[38;5;241;43m*\u001B[39;49m\u001B[43mmethod_kwargs\u001B[49m\u001B[43m)\u001B[49m \u001B[38;5;28;01mfor\u001B[39;00m env_i \u001B[38;5;129;01min\u001B[39;00m target_envs]\n",
      "File \u001B[0;32m~/Desktop/campus bio iscrizione/ Magistrale/Merone/RL/Reinforcement_Learning_Ant_MuJoCu/venv/lib/python3.10/site-packages/gymnasium/core.py:332\u001B[0m, in \u001B[0;36mWrapper.render\u001B[0;34m(self)\u001B[0m\n\u001B[1;32m    330\u001B[0m \u001B[38;5;28;01mdef\u001B[39;00m\u001B[38;5;250m \u001B[39m\u001B[38;5;21mrender\u001B[39m(\u001B[38;5;28mself\u001B[39m) \u001B[38;5;241m-\u001B[39m\u001B[38;5;241m>\u001B[39m RenderFrame \u001B[38;5;241m|\u001B[39m \u001B[38;5;28mlist\u001B[39m[RenderFrame] \u001B[38;5;241m|\u001B[39m \u001B[38;5;28;01mNone\u001B[39;00m:\n\u001B[1;32m    331\u001B[0m \u001B[38;5;250m    \u001B[39m\u001B[38;5;124;03m\"\"\"Uses the :meth:`render` of the :attr:`env` that can be overwritten to change the returned data.\"\"\"\u001B[39;00m\n\u001B[0;32m--> 332\u001B[0m     \u001B[38;5;28;01mreturn\u001B[39;00m \u001B[38;5;28;43mself\u001B[39;49m\u001B[38;5;241;43m.\u001B[39;49m\u001B[43menv\u001B[49m\u001B[38;5;241;43m.\u001B[39;49m\u001B[43mrender\u001B[49m\u001B[43m(\u001B[49m\u001B[43m)\u001B[49m\n",
      "File \u001B[0;32m~/Desktop/campus bio iscrizione/ Magistrale/Merone/RL/Reinforcement_Learning_Ant_MuJoCu/venv/lib/python3.10/site-packages/gymnasium/wrappers/common.py:409\u001B[0m, in \u001B[0;36mOrderEnforcing.render\u001B[0;34m(self)\u001B[0m\n\u001B[1;32m    404\u001B[0m \u001B[38;5;28;01mif\u001B[39;00m \u001B[38;5;129;01mnot\u001B[39;00m \u001B[38;5;28mself\u001B[39m\u001B[38;5;241m.\u001B[39m_disable_render_order_enforcing \u001B[38;5;129;01mand\u001B[39;00m \u001B[38;5;129;01mnot\u001B[39;00m \u001B[38;5;28mself\u001B[39m\u001B[38;5;241m.\u001B[39m_has_reset:\n\u001B[1;32m    405\u001B[0m     \u001B[38;5;28;01mraise\u001B[39;00m ResetNeeded(\n\u001B[1;32m    406\u001B[0m         \u001B[38;5;124m\"\u001B[39m\u001B[38;5;124mCannot call `env.render()` before calling `env.reset()`, if this is an intended action, \u001B[39m\u001B[38;5;124m\"\u001B[39m\n\u001B[1;32m    407\u001B[0m         \u001B[38;5;124m\"\u001B[39m\u001B[38;5;124mset `disable_render_order_enforcing=True` on the OrderEnforcer wrapper.\u001B[39m\u001B[38;5;124m\"\u001B[39m\n\u001B[1;32m    408\u001B[0m     )\n\u001B[0;32m--> 409\u001B[0m \u001B[38;5;28;01mreturn\u001B[39;00m \u001B[38;5;28;43msuper\u001B[39;49m\u001B[43m(\u001B[49m\u001B[43m)\u001B[49m\u001B[38;5;241;43m.\u001B[39;49m\u001B[43mrender\u001B[49m\u001B[43m(\u001B[49m\u001B[43m)\u001B[49m\n",
      "File \u001B[0;32m~/Desktop/campus bio iscrizione/ Magistrale/Merone/RL/Reinforcement_Learning_Ant_MuJoCu/venv/lib/python3.10/site-packages/gymnasium/core.py:332\u001B[0m, in \u001B[0;36mWrapper.render\u001B[0;34m(self)\u001B[0m\n\u001B[1;32m    330\u001B[0m \u001B[38;5;28;01mdef\u001B[39;00m\u001B[38;5;250m \u001B[39m\u001B[38;5;21mrender\u001B[39m(\u001B[38;5;28mself\u001B[39m) \u001B[38;5;241m-\u001B[39m\u001B[38;5;241m>\u001B[39m RenderFrame \u001B[38;5;241m|\u001B[39m \u001B[38;5;28mlist\u001B[39m[RenderFrame] \u001B[38;5;241m|\u001B[39m \u001B[38;5;28;01mNone\u001B[39;00m:\n\u001B[1;32m    331\u001B[0m \u001B[38;5;250m    \u001B[39m\u001B[38;5;124;03m\"\"\"Uses the :meth:`render` of the :attr:`env` that can be overwritten to change the returned data.\"\"\"\u001B[39;00m\n\u001B[0;32m--> 332\u001B[0m     \u001B[38;5;28;01mreturn\u001B[39;00m \u001B[38;5;28;43mself\u001B[39;49m\u001B[38;5;241;43m.\u001B[39;49m\u001B[43menv\u001B[49m\u001B[38;5;241;43m.\u001B[39;49m\u001B[43mrender\u001B[49m\u001B[43m(\u001B[49m\u001B[43m)\u001B[49m\n",
      "File \u001B[0;32m~/Desktop/campus bio iscrizione/ Magistrale/Merone/RL/Reinforcement_Learning_Ant_MuJoCu/venv/lib/python3.10/site-packages/gymnasium/wrappers/common.py:303\u001B[0m, in \u001B[0;36mPassiveEnvChecker.render\u001B[0;34m(self)\u001B[0m\n\u001B[1;32m    301\u001B[0m     \u001B[38;5;28;01mreturn\u001B[39;00m env_render_passive_checker(\u001B[38;5;28mself\u001B[39m\u001B[38;5;241m.\u001B[39menv)\n\u001B[1;32m    302\u001B[0m \u001B[38;5;28;01melse\u001B[39;00m:\n\u001B[0;32m--> 303\u001B[0m     \u001B[38;5;28;01mreturn\u001B[39;00m \u001B[38;5;28;43mself\u001B[39;49m\u001B[38;5;241;43m.\u001B[39;49m\u001B[43menv\u001B[49m\u001B[38;5;241;43m.\u001B[39;49m\u001B[43mrender\u001B[49m\u001B[43m(\u001B[49m\u001B[43m)\u001B[49m\n",
      "File \u001B[0;32m~/Desktop/campus bio iscrizione/ Magistrale/Merone/RL/Reinforcement_Learning_Ant_MuJoCu/venv/lib/python3.10/site-packages/gymnasium/envs/mujoco/mujoco_env.py:164\u001B[0m, in \u001B[0;36mMujocoEnv.render\u001B[0;34m(self)\u001B[0m\n\u001B[1;32m    160\u001B[0m \u001B[38;5;28;01mdef\u001B[39;00m\u001B[38;5;250m \u001B[39m\u001B[38;5;21mrender\u001B[39m(\u001B[38;5;28mself\u001B[39m):\n\u001B[1;32m    161\u001B[0m \u001B[38;5;250m    \u001B[39m\u001B[38;5;124;03m\"\"\"\u001B[39;00m\n\u001B[1;32m    162\u001B[0m \u001B[38;5;124;03m    Render a frame from the MuJoCo simulation as specified by the render_mode.\u001B[39;00m\n\u001B[1;32m    163\u001B[0m \u001B[38;5;124;03m    \"\"\"\u001B[39;00m\n\u001B[0;32m--> 164\u001B[0m     \u001B[38;5;28;01mreturn\u001B[39;00m \u001B[38;5;28;43mself\u001B[39;49m\u001B[38;5;241;43m.\u001B[39;49m\u001B[43mmujoco_renderer\u001B[49m\u001B[38;5;241;43m.\u001B[39;49m\u001B[43mrender\u001B[49m\u001B[43m(\u001B[49m\u001B[38;5;28;43mself\u001B[39;49m\u001B[38;5;241;43m.\u001B[39;49m\u001B[43mrender_mode\u001B[49m\u001B[43m)\u001B[49m\n",
      "File \u001B[0;32m~/Desktop/campus bio iscrizione/ Magistrale/Merone/RL/Reinforcement_Learning_Ant_MuJoCu/venv/lib/python3.10/site-packages/gymnasium/envs/mujoco/mujoco_rendering.py:711\u001B[0m, in \u001B[0;36mMujocoRenderer.render\u001B[0;34m(self, render_mode)\u001B[0m\n\u001B[1;32m    709\u001B[0m     \u001B[38;5;28;01mreturn\u001B[39;00m viewer\u001B[38;5;241m.\u001B[39mrender(render_mode\u001B[38;5;241m=\u001B[39mrender_mode, camera_id\u001B[38;5;241m=\u001B[39m\u001B[38;5;28mself\u001B[39m\u001B[38;5;241m.\u001B[39mcamera_id)\n\u001B[1;32m    710\u001B[0m \u001B[38;5;28;01melif\u001B[39;00m render_mode \u001B[38;5;241m==\u001B[39m \u001B[38;5;124m\"\u001B[39m\u001B[38;5;124mhuman\u001B[39m\u001B[38;5;124m\"\u001B[39m:\n\u001B[0;32m--> 711\u001B[0m     \u001B[38;5;28;01mreturn\u001B[39;00m \u001B[43mviewer\u001B[49m\u001B[38;5;241;43m.\u001B[39;49m\u001B[43mrender\u001B[49m\u001B[43m(\u001B[49m\u001B[43m)\u001B[49m\n",
      "File \u001B[0;32m~/Desktop/campus bio iscrizione/ Magistrale/Merone/RL/Reinforcement_Learning_Ant_MuJoCu/venv/lib/python3.10/site-packages/gymnasium/envs/mujoco/mujoco_rendering.py:437\u001B[0m, in \u001B[0;36mWindowViewer.render\u001B[0;34m(self)\u001B[0m\n\u001B[1;32m    435\u001B[0m         \u001B[38;5;28mself\u001B[39m\u001B[38;5;241m.\u001B[39m_loop_count \u001B[38;5;241m=\u001B[39m \u001B[38;5;241m1\u001B[39m\n\u001B[1;32m    436\u001B[0m     \u001B[38;5;28;01mwhile\u001B[39;00m \u001B[38;5;28mself\u001B[39m\u001B[38;5;241m.\u001B[39m_loop_count \u001B[38;5;241m>\u001B[39m \u001B[38;5;241m0\u001B[39m:\n\u001B[0;32m--> 437\u001B[0m         \u001B[43mupdate\u001B[49m\u001B[43m(\u001B[49m\u001B[43m)\u001B[49m\n\u001B[1;32m    438\u001B[0m         \u001B[38;5;28mself\u001B[39m\u001B[38;5;241m.\u001B[39m_loop_count \u001B[38;5;241m-\u001B[39m\u001B[38;5;241m=\u001B[39m \u001B[38;5;241m1\u001B[39m\n\u001B[1;32m    440\u001B[0m \u001B[38;5;66;03m# clear overlay\u001B[39;00m\n",
      "File \u001B[0;32m~/Desktop/campus bio iscrizione/ Magistrale/Merone/RL/Reinforcement_Learning_Ant_MuJoCu/venv/lib/python3.10/site-packages/gymnasium/envs/mujoco/mujoco_rendering.py:409\u001B[0m, in \u001B[0;36mWindowViewer.render.<locals>.update\u001B[0;34m()\u001B[0m\n\u001B[1;32m    407\u001B[0m \u001B[38;5;28;01mif\u001B[39;00m \u001B[38;5;129;01mnot\u001B[39;00m \u001B[38;5;28mself\u001B[39m\u001B[38;5;241m.\u001B[39m_hide_menu:\n\u001B[1;32m    408\u001B[0m     \u001B[38;5;28;01mfor\u001B[39;00m gridpos, [t1, t2] \u001B[38;5;129;01min\u001B[39;00m \u001B[38;5;28mself\u001B[39m\u001B[38;5;241m.\u001B[39m_overlays\u001B[38;5;241m.\u001B[39mitems():\n\u001B[0;32m--> 409\u001B[0m         \u001B[43mmujoco\u001B[49m\u001B[38;5;241;43m.\u001B[39;49m\u001B[43mmjr_overlay\u001B[49m\u001B[43m(\u001B[49m\n\u001B[1;32m    410\u001B[0m \u001B[43m            \u001B[49m\u001B[43mmujoco\u001B[49m\u001B[38;5;241;43m.\u001B[39;49m\u001B[43mmjtFontScale\u001B[49m\u001B[38;5;241;43m.\u001B[39;49m\u001B[43mmjFONTSCALE_150\u001B[49m\u001B[43m,\u001B[49m\n\u001B[1;32m    411\u001B[0m \u001B[43m            \u001B[49m\u001B[43mgridpos\u001B[49m\u001B[43m,\u001B[49m\n\u001B[1;32m    412\u001B[0m \u001B[43m            \u001B[49m\u001B[38;5;28;43mself\u001B[39;49m\u001B[38;5;241;43m.\u001B[39;49m\u001B[43mviewport\u001B[49m\u001B[43m,\u001B[49m\n\u001B[1;32m    413\u001B[0m \u001B[43m            \u001B[49m\u001B[43mt1\u001B[49m\u001B[43m,\u001B[49m\n\u001B[1;32m    414\u001B[0m \u001B[43m            \u001B[49m\u001B[43mt2\u001B[49m\u001B[43m,\u001B[49m\n\u001B[1;32m    415\u001B[0m \u001B[43m            \u001B[49m\u001B[38;5;28;43mself\u001B[39;49m\u001B[38;5;241;43m.\u001B[39;49m\u001B[43mcon\u001B[49m\u001B[43m,\u001B[49m\n\u001B[1;32m    416\u001B[0m \u001B[43m        \u001B[49m\u001B[43m)\u001B[49m\n\u001B[1;32m    418\u001B[0m glfw\u001B[38;5;241m.\u001B[39mswap_buffers(\u001B[38;5;28mself\u001B[39m\u001B[38;5;241m.\u001B[39mwindow)\n\u001B[1;32m    419\u001B[0m glfw\u001B[38;5;241m.\u001B[39mpoll_events()\n",
      "\u001B[0;31mKeyboardInterrupt\u001B[0m: "
     ]
    },
    {
     "ename": "",
     "evalue": "",
     "output_type": "error",
     "traceback": [
      "\u001B[1;31mThe Kernel crashed while executing code in the the current cell or a previous cell. Please review the code in the cell(s) to identify a possible cause of the failure. Click <a href='https://aka.ms/vscodeJupyterKernelCrash'>here</a> for more info. View Jupyter <a href='command:jupyter.viewOutput'>log</a> for further details."
     ]
    }
   ],
   "source": [
    "import gymnasium as gym\n",
    "import time\n",
    "from stable_baselines3 import SAC\n",
    "from stable_baselines3.common.vec_env import DummyVecEnv, VecNormalize\n",
    "\n",
    "# Caricamento del modello addestrato con SAC\n",
    "model = SAC.load(\"sac_HalfCheetah_model\")  # Assicurati che il percorso del modello sia corretto\n",
    "\n",
    "# Creazione dell'ambiente con DummyVecEnv per abilitare la normalizzazione\n",
    "render_env = DummyVecEnv([lambda: gym.make(\"HalfCheetah-v5\",  # Crea l'ambiente HalfCheetah\n",
    "                        reset_noise_scale=0.13635555699602933,  # Parametro per il rumore di reset\n",
    "                        forward_reward_weight=0.7151140526343989,  # Peso per la ricompensa del movimento in avanti\n",
    "                        ctrl_cost_weight=0.19342622590821706,  # Penalità sul controllo\n",
    "                        render_mode='human')])  # Modalità di rendering: 'human' per visualizzazione su schermo\n",
    "\n",
    "# Caricamento della normalizzazione (salvata precedentemente)\n",
    "render_env = VecNormalize.load(\"vecnormalize_HalfCheetah.pkl\", render_env)  # Assicurati che il percorso del file di normalizzazione sia corretto\n",
    "\n",
    "# Imposta l'ambiente in modalità di valutazione\n",
    "render_env.training = False  # Disabilita la normalizzazione durante la valutazione\n",
    "render_env.norm_reward = True  # Abilita la normalizzazione delle ricompense (opzionale)\n",
    "\n",
    "# Reset dell'ambiente per ottenere le prime osservazioni\n",
    "obs = render_env.reset()  # Ottieni le osservazioni iniziali (restituisce un array numpy)\n",
    "\n",
    "done = False  # Variabile per verificare se l'episodio è terminato\n",
    "\n",
    "# Loop per eseguire il rendering dell'ambiente e far agire il modello\n",
    "while not done:\n",
    "    # Predizione dell'azione del modello in base all'osservazione attuale\n",
    "    action, _ = model.predict(obs)  # Predice l'azione usando la policy addestrata\n",
    "    \n",
    "    # Esegui l'azione nell'ambiente, ottieni la nuova osservazione, ricompensa, e informazioni\n",
    "    obs, rewards, dones, infos = render_env.step(action)  # 'dones' può essere un array, uno per ogni ambiente\n",
    "\n",
    "    # Rendering dell'ambiente a schermo (se 'render_mode' è impostato su 'human')\n",
    "    render_env.render()  \n",
    "\n",
    "    # Pausa tra i frame per un rendering più fluido\n",
    "    time.sleep(0.01)  \n",
    "\n",
    "    # Gestione della variabile 'done' (dones è una lista, ma stiamo usando un singolo ambiente)\n",
    "    done = dones[0]  # Verifica se l'episodio è terminato (prendi il primo valore di 'dones')\n",
    "\n",
    "# Chiude l'ambiente e rilascia le risorse\n",
    "render_env.close()\n"
   ]
  }
 ],
 "metadata": {
  "kernelspec": {
   "display_name": "venv",
   "language": "python",
   "name": "python3"
  },
  "language_info": {
   "codemirror_mode": {
    "name": "ipython",
    "version": 3
   },
   "file_extension": ".py",
   "mimetype": "text/x-python",
   "name": "python",
   "nbconvert_exporter": "python",
   "pygments_lexer": "ipython3",
   "version": "3.10.16"
  }
 },
 "nbformat": 4,
 "nbformat_minor": 2
}
