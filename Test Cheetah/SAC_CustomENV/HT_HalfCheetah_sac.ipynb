{
 "cells": [
  {
   "cell_type": "code",
   "execution_count": 7,
   "metadata": {},
   "outputs": [],
   "source": [
    "import gymnasium as gym\n",
    "from stable_baselines3 import SAC\n",
    "from stable_baselines3.common.vec_env import DummyVecEnv, VecNormalize\n",
    "from stable_baselines3.common.evaluation import evaluate_policy\n",
    "import optuna"
   ]
  },
  {
   "cell_type": "code",
   "execution_count": 8,
   "metadata": {},
   "outputs": [
    {
     "name": "stderr",
     "output_type": "stream",
     "text": [
      "[I 2025-02-23 12:09:32,075] A new study created in memory with name: no-name-4fedb24e-23b0-4a7e-a95a-11a19de9b6b5\n",
      "/var/folders/d5/8f8lxk3x1gddrb19zv8xl57m0000gn/T/ipykernel_61413/2280089131.py:23: FutureWarning: suggest_loguniform has been deprecated in v3.0.0. This feature will be removed in v6.0.0. See https://github.com/optuna/optuna/releases/tag/v3.0.0. Use suggest_float(..., log=True) instead.\n",
      "  learning_rate = trial.suggest_loguniform('learning_rate', 1e-6, 1e-3)\n",
      "[I 2025-02-23 12:09:50,441] Trial 0 finished with value: -1.955694197690328 and parameters: {'reset_noise_scale': 0.13878910117362878, 'forward_reward_weight': 1.4650717081534432, 'ctrl_cost_weight': 0.2885979897914906, 'learning_rate': 8.629085657598991e-06, 'buffer_size': 500000, 'batch_size': 128, 'tau': 0.007169229553311472, 'gamma': 0.9507766264673688, 'ent_coef': 0.05, 'train_freq': 256, 'gradient_steps': 1}. Best is trial 0 with value: -1.955694197690328.\n"
     ]
    },
    {
     "name": "stdout",
     "output_type": "stream",
     "text": [
      "Mean reward: -1.955694197690328\n"
     ]
    },
    {
     "name": "stderr",
     "output_type": "stream",
     "text": [
      "[I 2025-02-23 12:10:16,637] Trial 1 finished with value: -49.78990560391394 and parameters: {'reset_noise_scale': 0.08443024244425591, 'forward_reward_weight': 1.1797300236439838, 'ctrl_cost_weight': 0.14916472656689986, 'learning_rate': 8.9542020972875e-06, 'buffer_size': 100000, 'batch_size': 256, 'tau': 0.009848926871440445, 'gamma': 0.9620054855796288, 'ent_coef': 0.01, 'train_freq': 512, 'gradient_steps': 32}. Best is trial 0 with value: -1.955694197690328.\n"
     ]
    },
    {
     "name": "stdout",
     "output_type": "stream",
     "text": [
      "Mean reward: -49.78990560391394\n"
     ]
    },
    {
     "name": "stderr",
     "output_type": "stream",
     "text": [
      "[I 2025-02-23 12:10:39,868] Trial 2 finished with value: -1.4428011602217927 and parameters: {'reset_noise_scale': 0.20069101158791108, 'forward_reward_weight': 1.472253859983883, 'ctrl_cost_weight': 0.03868385263270402, 'learning_rate': 9.18405793543639e-06, 'buffer_size': 100000, 'batch_size': 512, 'tau': 0.019060006655289487, 'gamma': 0.9593327700351577, 'ent_coef': 'auto', 'train_freq': 256, 'gradient_steps': 8}. Best is trial 2 with value: -1.4428011602217927.\n"
     ]
    },
    {
     "name": "stdout",
     "output_type": "stream",
     "text": [
      "Mean reward: -1.4428011602217927\n"
     ]
    },
    {
     "name": "stderr",
     "output_type": "stream",
     "text": [
      "[I 2025-02-23 12:11:15,025] Trial 3 finished with value: -22.072688845619883 and parameters: {'reset_noise_scale': 0.039771086891144634, 'forward_reward_weight': 1.4742172710145043, 'ctrl_cost_weight': 0.13083133419376947, 'learning_rate': 0.00011502620305512281, 'buffer_size': 500000, 'batch_size': 256, 'tau': 0.007306797439651235, 'gamma': 0.9946552499804332, 'ent_coef': 0.05, 'train_freq': 64, 'gradient_steps': 8}. Best is trial 2 with value: -1.4428011602217927.\n"
     ]
    },
    {
     "name": "stdout",
     "output_type": "stream",
     "text": [
      "Mean reward: -22.072688845619883\n"
     ]
    },
    {
     "name": "stderr",
     "output_type": "stream",
     "text": [
      "[I 2025-02-23 12:11:35,631] Trial 4 finished with value: -0.5114571955454305 and parameters: {'reset_noise_scale': 0.10175244498924187, 'forward_reward_weight': 0.8461969577340085, 'ctrl_cost_weight': 0.04512033022702447, 'learning_rate': 0.0007612398762804588, 'buffer_size': 100000, 'batch_size': 512, 'tau': 0.008020302523431019, 'gamma': 0.9979769322574884, 'ent_coef': 'auto', 'train_freq': 512, 'gradient_steps': 8}. Best is trial 4 with value: -0.5114571955454305.\n"
     ]
    },
    {
     "name": "stdout",
     "output_type": "stream",
     "text": [
      "Mean reward: -0.5114571955454305\n"
     ]
    },
    {
     "name": "stderr",
     "output_type": "stream",
     "text": [
      "[I 2025-02-23 12:11:55,541] Trial 5 finished with value: -14.206998103794346 and parameters: {'reset_noise_scale': 0.0756957041368532, 'forward_reward_weight': 0.9090408778470807, 'ctrl_cost_weight': 0.23409728560745854, 'learning_rate': 6.206264390312021e-06, 'buffer_size': 500000, 'batch_size': 256, 'tau': 0.006010029747528201, 'gamma': 0.9554254804553548, 'ent_coef': 0.001, 'train_freq': 64, 'gradient_steps': 1}. Best is trial 4 with value: -0.5114571955454305.\n"
     ]
    },
    {
     "name": "stdout",
     "output_type": "stream",
     "text": [
      "Mean reward: -14.206998103794346\n"
     ]
    },
    {
     "name": "stderr",
     "output_type": "stream",
     "text": [
      "[I 2025-02-23 12:13:00,083] Trial 6 finished with value: -2.7613519838095955 and parameters: {'reset_noise_scale': 0.2635285724348147, 'forward_reward_weight': 1.451909348137433, 'ctrl_cost_weight': 0.04319501953057785, 'learning_rate': 1.3425980866413072e-06, 'buffer_size': 300000, 'batch_size': 64, 'tau': 0.017738372445502786, 'gamma': 0.9762075642301418, 'ent_coef': 0.05, 'train_freq': 64, 'gradient_steps': 32}. Best is trial 4 with value: -0.5114571955454305.\n"
     ]
    },
    {
     "name": "stdout",
     "output_type": "stream",
     "text": [
      "Mean reward: -2.7613519838095955\n"
     ]
    },
    {
     "name": "stderr",
     "output_type": "stream",
     "text": [
      "[I 2025-02-23 12:13:20,773] Trial 7 finished with value: -192.4491006567905 and parameters: {'reset_noise_scale': 0.020390472335642812, 'forward_reward_weight': 1.2932692574615952, 'ctrl_cost_weight': 0.25744391872473693, 'learning_rate': 0.00039677326825136405, 'buffer_size': 500000, 'batch_size': 64, 'tau': 0.017400808185691386, 'gamma': 0.9625462215890442, 'ent_coef': 0.01, 'train_freq': 256, 'gradient_steps': 8}. Best is trial 4 with value: -0.5114571955454305.\n"
     ]
    },
    {
     "name": "stdout",
     "output_type": "stream",
     "text": [
      "Mean reward: -192.4491006567905\n"
     ]
    },
    {
     "name": "stderr",
     "output_type": "stream",
     "text": [
      "[I 2025-02-23 13:24:42,928] Trial 8 finished with value: 593.879384215323 and parameters: {'reset_noise_scale': 0.18625446671300852, 'forward_reward_weight': 1.4395544177070303, 'ctrl_cost_weight': 0.1649367223868109, 'learning_rate': 8.542296538176427e-05, 'buffer_size': 500000, 'batch_size': 256, 'tau': 0.015821766540131243, 'gamma': 0.9611313608283093, 'ent_coef': 'auto', 'train_freq': 1, 'gradient_steps': 32}. Best is trial 8 with value: 593.879384215323.\n"
     ]
    },
    {
     "name": "stdout",
     "output_type": "stream",
     "text": [
      "Mean reward: 593.879384215323\n"
     ]
    },
    {
     "name": "stderr",
     "output_type": "stream",
     "text": [
      "[I 2025-02-23 13:25:22,079] Trial 9 finished with value: -35.84403375179196 and parameters: {'reset_noise_scale': 0.07699286463458112, 'forward_reward_weight': 0.9896697374587214, 'ctrl_cost_weight': 0.10009659633193074, 'learning_rate': 2.7092100201017118e-05, 'buffer_size': 100000, 'batch_size': 512, 'tau': 0.015023264670683644, 'gamma': 0.952544333965331, 'ent_coef': 0.01, 'train_freq': 256, 'gradient_steps': 32}. Best is trial 8 with value: 593.879384215323.\n"
     ]
    },
    {
     "name": "stdout",
     "output_type": "stream",
     "text": [
      "Mean reward: -35.84403375179196\n"
     ]
    },
    {
     "name": "stderr",
     "output_type": "stream",
     "text": [
      "[I 2025-02-23 13:57:14,323] Trial 10 finished with value: -55.03633944803255 and parameters: {'reset_noise_scale': 0.2948493190393856, 'forward_reward_weight': 1.208721036573466, 'ctrl_cost_weight': 0.20336028478155785, 'learning_rate': 0.00013728970551579026, 'buffer_size': 300000, 'batch_size': 128, 'tau': 0.013063114583711182, 'gamma': 0.9752754732479632, 'ent_coef': 'auto', 'train_freq': 1, 'gradient_steps': 16}. Best is trial 8 with value: 593.879384215323.\n"
     ]
    },
    {
     "name": "stdout",
     "output_type": "stream",
     "text": [
      "Mean reward: -55.03633944803255\n"
     ]
    },
    {
     "name": "stderr",
     "output_type": "stream",
     "text": [
      "[I 2025-02-23 13:57:37,743] Trial 11 finished with value: -0.7663095510180293 and parameters: {'reset_noise_scale': 0.1690179808500754, 'forward_reward_weight': 0.7369018391534534, 'ctrl_cost_weight': 0.09363553332660654, 'learning_rate': 0.0009660398880178648, 'buffer_size': 100000, 'batch_size': 512, 'tau': 0.010641214987925054, 'gamma': 0.9973807717079266, 'ent_coef': 'auto', 'train_freq': 512, 'gradient_steps': 16}. Best is trial 8 with value: 593.879384215323.\n"
     ]
    },
    {
     "name": "stdout",
     "output_type": "stream",
     "text": [
      "Mean reward: -0.7663095510180293\n"
     ]
    },
    {
     "name": "stderr",
     "output_type": "stream",
     "text": [
      "[I 2025-02-23 14:21:24,852] Trial 12 finished with value: 658.4202594094461 and parameters: {'reset_noise_scale': 0.1413956096385016, 'forward_reward_weight': 0.7006845125642618, 'ctrl_cost_weight': 0.18926200091947704, 'learning_rate': 0.0001216148125101238, 'buffer_size': 500000, 'batch_size': 512, 'tau': 0.014239027360996071, 'gamma': 0.98650670251583, 'ent_coef': 'auto', 'train_freq': 1, 'gradient_steps': 8}. Best is trial 12 with value: 658.4202594094461.\n"
     ]
    },
    {
     "name": "stdout",
     "output_type": "stream",
     "text": [
      "Mean reward: 658.4202594094461\n"
     ]
    },
    {
     "name": "stderr",
     "output_type": "stream",
     "text": [
      "[I 2025-02-23 15:35:42,829] Trial 13 finished with value: -831.3520673549491 and parameters: {'reset_noise_scale': 0.2128196785384656, 'forward_reward_weight': 1.070042770803264, 'ctrl_cost_weight': 0.18396473573969718, 'learning_rate': 9.911196528414933e-05, 'buffer_size': 500000, 'batch_size': 256, 'tau': 0.015191478253965843, 'gamma': 0.985092455563362, 'ent_coef': 'auto', 'train_freq': 1, 'gradient_steps': 32}. Best is trial 12 with value: 658.4202594094461.\n"
     ]
    },
    {
     "name": "stdout",
     "output_type": "stream",
     "text": [
      "Mean reward: -831.3520673549491\n"
     ]
    },
    {
     "name": "stderr",
     "output_type": "stream",
     "text": [
      "[I 2025-02-23 15:54:00,653] Trial 14 finished with value: 3254.8171763902315 and parameters: {'reset_noise_scale': 0.13635555699602933, 'forward_reward_weight': 0.7151140526343989, 'ctrl_cost_weight': 0.19342622590821706, 'learning_rate': 4.3539588088977104e-05, 'buffer_size': 500000, 'batch_size': 256, 'tau': 0.013929154106819306, 'gamma': 0.9843911115842067, 'ent_coef': 0.001, 'train_freq': 1, 'gradient_steps': 8}. Best is trial 14 with value: 3254.8171763902315.\n"
     ]
    },
    {
     "name": "stdout",
     "output_type": "stream",
     "text": [
      "Mean reward: 3254.8171763902315\n"
     ]
    },
    {
     "name": "stderr",
     "output_type": "stream",
     "text": [
      "[I 2025-02-23 16:17:04,779] Trial 15 finished with value: 621.8411591995924 and parameters: {'reset_noise_scale': 0.1359751812835904, 'forward_reward_weight': 0.735089299888663, 'ctrl_cost_weight': 0.22465549069613316, 'learning_rate': 3.406736051063376e-05, 'buffer_size': 500000, 'batch_size': 512, 'tau': 0.012507114563852503, 'gamma': 0.9867393924280535, 'ent_coef': 0.001, 'train_freq': 1, 'gradient_steps': 8}. Best is trial 14 with value: 3254.8171763902315.\n"
     ]
    },
    {
     "name": "stdout",
     "output_type": "stream",
     "text": [
      "Mean reward: 621.8411591995924\n"
     ]
    },
    {
     "name": "stderr",
     "output_type": "stream",
     "text": [
      "[I 2025-02-23 16:32:32,049] Trial 16 finished with value: 2097.1208441172776 and parameters: {'reset_noise_scale': 0.23152250767641086, 'forward_reward_weight': 0.8309752464170082, 'ctrl_cost_weight': 0.1935880860416585, 'learning_rate': 3.1678880573533826e-05, 'buffer_size': 300000, 'batch_size': 128, 'tau': 0.01347655189159277, 'gamma': 0.984239381536316, 'ent_coef': 0.001, 'train_freq': 1, 'gradient_steps': 8}. Best is trial 14 with value: 3254.8171763902315.\n"
     ]
    },
    {
     "name": "stdout",
     "output_type": "stream",
     "text": [
      "Mean reward: 2097.1208441172776\n"
     ]
    },
    {
     "name": "stderr",
     "output_type": "stream",
     "text": [
      "[I 2025-02-23 16:47:54,029] Trial 17 finished with value: 2506.8849015334436 and parameters: {'reset_noise_scale': 0.23817830014769378, 'forward_reward_weight': 0.8633227881390402, 'ctrl_cost_weight': 0.26508387495885344, 'learning_rate': 2.8856651005371135e-05, 'buffer_size': 300000, 'batch_size': 128, 'tau': 0.010980392460814748, 'gamma': 0.9803887655688588, 'ent_coef': 0.001, 'train_freq': 1, 'gradient_steps': 8}. Best is trial 14 with value: 3254.8171763902315.\n"
     ]
    },
    {
     "name": "stdout",
     "output_type": "stream",
     "text": [
      "Mean reward: 2506.8849015334436\n"
     ]
    },
    {
     "name": "stderr",
     "output_type": "stream",
     "text": [
      "[I 2025-02-23 17:03:39,412] Trial 18 finished with value: 19.52384478759591 and parameters: {'reset_noise_scale': 0.24832563275603003, 'forward_reward_weight': 0.955619433818362, 'ctrl_cost_weight': 0.2768021205003019, 'learning_rate': 2.210442115834014e-06, 'buffer_size': 300000, 'batch_size': 128, 'tau': 0.01079180223553318, 'gamma': 0.9686249189086836, 'ent_coef': 0.001, 'train_freq': 1, 'gradient_steps': 8}. Best is trial 14 with value: 3254.8171763902315.\n"
     ]
    },
    {
     "name": "stdout",
     "output_type": "stream",
     "text": [
      "Mean reward: 19.52384478759591\n"
     ]
    },
    {
     "name": "stderr",
     "output_type": "stream",
     "text": [
      "[I 2025-02-23 17:35:08,367] Trial 19 finished with value: 1532.507067497823 and parameters: {'reset_noise_scale': 0.2847540543073047, 'forward_reward_weight': 0.8021899409453827, 'ctrl_cost_weight': 0.25243560945267324, 'learning_rate': 2.177044176541231e-05, 'buffer_size': 300000, 'batch_size': 128, 'tau': 0.009043272744137383, 'gamma': 0.9708196738736248, 'ent_coef': 0.001, 'train_freq': 1, 'gradient_steps': 16}. Best is trial 14 with value: 3254.8171763902315.\n"
     ]
    },
    {
     "name": "stdout",
     "output_type": "stream",
     "text": [
      "Mean reward: 1532.507067497823\n"
     ]
    },
    {
     "name": "stderr",
     "output_type": "stream",
     "text": [
      "[I 2025-02-23 17:37:02,348] Trial 20 finished with value: 945.338913492052 and parameters: {'reset_noise_scale': 0.1107351719043501, 'forward_reward_weight': 0.8902324971943518, 'ctrl_cost_weight': 0.2954553942800961, 'learning_rate': 5.259718112928761e-05, 'buffer_size': 300000, 'batch_size': 64, 'tau': 0.01124933427019597, 'gamma': 0.9802493637551721, 'ent_coef': 0.001, 'train_freq': 1, 'gradient_steps': 1}. Best is trial 14 with value: 3254.8171763902315.\n"
     ]
    },
    {
     "name": "stdout",
     "output_type": "stream",
     "text": [
      "Mean reward: 945.338913492052\n"
     ]
    },
    {
     "name": "stderr",
     "output_type": "stream",
     "text": [
      "[I 2025-02-23 17:52:20,648] Trial 21 finished with value: 1508.0404527291564 and parameters: {'reset_noise_scale': 0.24039966303929397, 'forward_reward_weight': 0.811181499601905, 'ctrl_cost_weight': 0.21260619884330306, 'learning_rate': 1.608951450299945e-05, 'buffer_size': 300000, 'batch_size': 128, 'tau': 0.013805645838198575, 'gamma': 0.9812132755675439, 'ent_coef': 0.001, 'train_freq': 1, 'gradient_steps': 8}. Best is trial 14 with value: 3254.8171763902315.\n"
     ]
    },
    {
     "name": "stdout",
     "output_type": "stream",
     "text": [
      "Mean reward: 1508.0404527291564\n"
     ]
    },
    {
     "name": "stderr",
     "output_type": "stream",
     "text": [
      "[I 2025-02-23 18:08:02,568] Trial 22 finished with value: 3218.4274166426017 and parameters: {'reset_noise_scale': 0.22018312547379437, 'forward_reward_weight': 0.9871883902601919, 'ctrl_cost_weight': 0.24117961102321478, 'learning_rate': 4.890970150810476e-05, 'buffer_size': 300000, 'batch_size': 128, 'tau': 0.011924308495540575, 'gamma': 0.9914991393790443, 'ent_coef': 0.001, 'train_freq': 1, 'gradient_steps': 8}. Best is trial 14 with value: 3254.8171763902315.\n"
     ]
    },
    {
     "name": "stdout",
     "output_type": "stream",
     "text": [
      "Mean reward: 3218.4274166426017\n"
     ]
    },
    {
     "name": "stderr",
     "output_type": "stream",
     "text": [
      "[I 2025-02-23 18:23:40,644] Trial 23 finished with value: 2682.989667459523 and parameters: {'reset_noise_scale': 0.169196947073717, 'forward_reward_weight': 1.0277916449907698, 'ctrl_cost_weight': 0.24714451661754258, 'learning_rate': 5.522215108386716e-05, 'buffer_size': 300000, 'batch_size': 128, 'tau': 0.012274620888838465, 'gamma': 0.9915516919961503, 'ent_coef': 0.001, 'train_freq': 1, 'gradient_steps': 8}. Best is trial 14 with value: 3254.8171763902315.\n"
     ]
    },
    {
     "name": "stdout",
     "output_type": "stream",
     "text": [
      "Mean reward: 2682.989667459523\n"
     ]
    },
    {
     "name": "stderr",
     "output_type": "stream",
     "text": [
      "[W 2025-02-23 18:29:06,380] Trial 24 failed with parameters: {'reset_noise_scale': 0.16731841286058588, 'forward_reward_weight': 1.0594943649394934, 'ctrl_cost_weight': 0.23657468751702668, 'learning_rate': 0.0002779745914996516, 'buffer_size': 300000, 'batch_size': 128, 'tau': 0.011876732693483865, 'gamma': 0.9905317825475765, 'ent_coef': 0.001, 'train_freq': 1, 'gradient_steps': 8} because of the following error: KeyboardInterrupt().\n",
      "Traceback (most recent call last):\n",
      "  File \"/Users/fabiodigregorio/Desktop/campus bio iscrizione/ Magistrale/Merone/RL/Reinforcement_Learning_Ant_MuJoCu/venv/lib/python3.10/site-packages/optuna/study/_optimize.py\", line 197, in _run_trial\n",
      "    value_or_values = func(trial)\n",
      "  File \"/var/folders/d5/8f8lxk3x1gddrb19zv8xl57m0000gn/T/ipykernel_61413/2280089131.py\", line 52, in objective\n",
      "    model.learn(total_timesteps=30_000)\n",
      "  File \"/Users/fabiodigregorio/Desktop/campus bio iscrizione/ Magistrale/Merone/RL/Reinforcement_Learning_Ant_MuJoCu/venv/lib/python3.10/site-packages/stable_baselines3/sac/sac.py\", line 307, in learn\n",
      "    return super().learn(\n",
      "  File \"/Users/fabiodigregorio/Desktop/campus bio iscrizione/ Magistrale/Merone/RL/Reinforcement_Learning_Ant_MuJoCu/venv/lib/python3.10/site-packages/stable_baselines3/common/off_policy_algorithm.py\", line 347, in learn\n",
      "    self.train(batch_size=self.batch_size, gradient_steps=gradient_steps)\n",
      "  File \"/Users/fabiodigregorio/Desktop/campus bio iscrizione/ Magistrale/Merone/RL/Reinforcement_Learning_Ant_MuJoCu/venv/lib/python3.10/site-packages/stable_baselines3/sac/sac.py\", line 247, in train\n",
      "    next_actions, next_log_prob = self.actor.action_log_prob(replay_data.next_observations)\n",
      "  File \"/Users/fabiodigregorio/Desktop/campus bio iscrizione/ Magistrale/Merone/RL/Reinforcement_Learning_Ant_MuJoCu/venv/lib/python3.10/site-packages/stable_baselines3/sac/policies.py\", line 175, in action_log_prob\n",
      "    return self.action_dist.log_prob_from_params(mean_actions, log_std, **kwargs)\n",
      "  File \"/Users/fabiodigregorio/Desktop/campus bio iscrizione/ Magistrale/Merone/RL/Reinforcement_Learning_Ant_MuJoCu/venv/lib/python3.10/site-packages/stable_baselines3/common/distributions.py\", line 258, in log_prob_from_params\n",
      "    action = self.actions_from_params(mean_actions, log_std)\n",
      "  File \"/Users/fabiodigregorio/Desktop/campus bio iscrizione/ Magistrale/Merone/RL/Reinforcement_Learning_Ant_MuJoCu/venv/lib/python3.10/site-packages/stable_baselines3/common/distributions.py\", line 190, in actions_from_params\n",
      "    self.proba_distribution(mean_actions, log_std)\n",
      "  File \"/Users/fabiodigregorio/Desktop/campus bio iscrizione/ Magistrale/Merone/RL/Reinforcement_Learning_Ant_MuJoCu/venv/lib/python3.10/site-packages/stable_baselines3/common/distributions.py\", line 224, in proba_distribution\n",
      "    super().proba_distribution(mean_actions, log_std)\n",
      "  File \"/Users/fabiodigregorio/Desktop/campus bio iscrizione/ Magistrale/Merone/RL/Reinforcement_Learning_Ant_MuJoCu/venv/lib/python3.10/site-packages/stable_baselines3/common/distributions.py\", line 164, in proba_distribution\n",
      "    self.distribution = Normal(mean_actions, action_std)\n",
      "  File \"/Users/fabiodigregorio/Desktop/campus bio iscrizione/ Magistrale/Merone/RL/Reinforcement_Learning_Ant_MuJoCu/venv/lib/python3.10/site-packages/torch/distributions/normal.py\", line 55, in __init__\n",
      "    if isinstance(loc, Number) and isinstance(scale, Number):\n",
      "  File \"/opt/homebrew/Cellar/python@3.10/3.10.16/Frameworks/Python.framework/Versions/3.10/lib/python3.10/abc.py\", line 117, in __instancecheck__\n",
      "    def __instancecheck__(cls, instance):\n",
      "KeyboardInterrupt\n",
      "[W 2025-02-23 18:29:06,384] Trial 24 failed with value None.\n"
     ]
    },
    {
     "ename": "KeyboardInterrupt",
     "evalue": "",
     "output_type": "error",
     "traceback": [
      "\u001B[0;31m---------------------------------------------------------------------------\u001B[0m",
      "\u001B[0;31mKeyboardInterrupt\u001B[0m                         Traceback (most recent call last)",
      "Cell \u001B[0;32mIn[8], line 66\u001B[0m\n\u001B[1;32m     64\u001B[0m \u001B[38;5;66;03m# Crea lo studio Optuna e ottimizza l'obiettivo\u001B[39;00m\n\u001B[1;32m     65\u001B[0m study \u001B[38;5;241m=\u001B[39m optuna\u001B[38;5;241m.\u001B[39mcreate_study(direction\u001B[38;5;241m=\u001B[39m\u001B[38;5;124m'\u001B[39m\u001B[38;5;124mmaximize\u001B[39m\u001B[38;5;124m'\u001B[39m)\n\u001B[0;32m---> 66\u001B[0m \u001B[43mstudy\u001B[49m\u001B[38;5;241;43m.\u001B[39;49m\u001B[43moptimize\u001B[49m\u001B[43m(\u001B[49m\u001B[43mobjective\u001B[49m\u001B[43m,\u001B[49m\u001B[43m \u001B[49m\u001B[43mn_trials\u001B[49m\u001B[38;5;241;43m=\u001B[39;49m\u001B[38;5;241;43m40\u001B[39;49m\u001B[43m)\u001B[49m\n\u001B[1;32m     68\u001B[0m \u001B[38;5;66;03m# Stampa i migliori iperparametri trovati\u001B[39;00m\n\u001B[1;32m     69\u001B[0m \u001B[38;5;28mprint\u001B[39m(\u001B[38;5;124m\"\u001B[39m\u001B[38;5;124mBest hyperparameters:\u001B[39m\u001B[38;5;124m\"\u001B[39m, study\u001B[38;5;241m.\u001B[39mbest_params)\n",
      "File \u001B[0;32m~/Desktop/campus bio iscrizione/ Magistrale/Merone/RL/Reinforcement_Learning_Ant_MuJoCu/venv/lib/python3.10/site-packages/optuna/study/study.py:475\u001B[0m, in \u001B[0;36mStudy.optimize\u001B[0;34m(self, func, n_trials, timeout, n_jobs, catch, callbacks, gc_after_trial, show_progress_bar)\u001B[0m\n\u001B[1;32m    373\u001B[0m \u001B[38;5;28;01mdef\u001B[39;00m\u001B[38;5;250m \u001B[39m\u001B[38;5;21moptimize\u001B[39m(\n\u001B[1;32m    374\u001B[0m     \u001B[38;5;28mself\u001B[39m,\n\u001B[1;32m    375\u001B[0m     func: ObjectiveFuncType,\n\u001B[0;32m   (...)\u001B[0m\n\u001B[1;32m    382\u001B[0m     show_progress_bar: \u001B[38;5;28mbool\u001B[39m \u001B[38;5;241m=\u001B[39m \u001B[38;5;28;01mFalse\u001B[39;00m,\n\u001B[1;32m    383\u001B[0m ) \u001B[38;5;241m-\u001B[39m\u001B[38;5;241m>\u001B[39m \u001B[38;5;28;01mNone\u001B[39;00m:\n\u001B[1;32m    384\u001B[0m \u001B[38;5;250m    \u001B[39m\u001B[38;5;124;03m\"\"\"Optimize an objective function.\u001B[39;00m\n\u001B[1;32m    385\u001B[0m \n\u001B[1;32m    386\u001B[0m \u001B[38;5;124;03m    Optimization is done by choosing a suitable set of hyperparameter values from a given\u001B[39;00m\n\u001B[0;32m   (...)\u001B[0m\n\u001B[1;32m    473\u001B[0m \u001B[38;5;124;03m            If nested invocation of this method occurs.\u001B[39;00m\n\u001B[1;32m    474\u001B[0m \u001B[38;5;124;03m    \"\"\"\u001B[39;00m\n\u001B[0;32m--> 475\u001B[0m     \u001B[43m_optimize\u001B[49m\u001B[43m(\u001B[49m\n\u001B[1;32m    476\u001B[0m \u001B[43m        \u001B[49m\u001B[43mstudy\u001B[49m\u001B[38;5;241;43m=\u001B[39;49m\u001B[38;5;28;43mself\u001B[39;49m\u001B[43m,\u001B[49m\n\u001B[1;32m    477\u001B[0m \u001B[43m        \u001B[49m\u001B[43mfunc\u001B[49m\u001B[38;5;241;43m=\u001B[39;49m\u001B[43mfunc\u001B[49m\u001B[43m,\u001B[49m\n\u001B[1;32m    478\u001B[0m \u001B[43m        \u001B[49m\u001B[43mn_trials\u001B[49m\u001B[38;5;241;43m=\u001B[39;49m\u001B[43mn_trials\u001B[49m\u001B[43m,\u001B[49m\n\u001B[1;32m    479\u001B[0m \u001B[43m        \u001B[49m\u001B[43mtimeout\u001B[49m\u001B[38;5;241;43m=\u001B[39;49m\u001B[43mtimeout\u001B[49m\u001B[43m,\u001B[49m\n\u001B[1;32m    480\u001B[0m \u001B[43m        \u001B[49m\u001B[43mn_jobs\u001B[49m\u001B[38;5;241;43m=\u001B[39;49m\u001B[43mn_jobs\u001B[49m\u001B[43m,\u001B[49m\n\u001B[1;32m    481\u001B[0m \u001B[43m        \u001B[49m\u001B[43mcatch\u001B[49m\u001B[38;5;241;43m=\u001B[39;49m\u001B[38;5;28;43mtuple\u001B[39;49m\u001B[43m(\u001B[49m\u001B[43mcatch\u001B[49m\u001B[43m)\u001B[49m\u001B[43m \u001B[49m\u001B[38;5;28;43;01mif\u001B[39;49;00m\u001B[43m \u001B[49m\u001B[38;5;28;43misinstance\u001B[39;49m\u001B[43m(\u001B[49m\u001B[43mcatch\u001B[49m\u001B[43m,\u001B[49m\u001B[43m \u001B[49m\u001B[43mIterable\u001B[49m\u001B[43m)\u001B[49m\u001B[43m \u001B[49m\u001B[38;5;28;43;01melse\u001B[39;49;00m\u001B[43m \u001B[49m\u001B[43m(\u001B[49m\u001B[43mcatch\u001B[49m\u001B[43m,\u001B[49m\u001B[43m)\u001B[49m\u001B[43m,\u001B[49m\n\u001B[1;32m    482\u001B[0m \u001B[43m        \u001B[49m\u001B[43mcallbacks\u001B[49m\u001B[38;5;241;43m=\u001B[39;49m\u001B[43mcallbacks\u001B[49m\u001B[43m,\u001B[49m\n\u001B[1;32m    483\u001B[0m \u001B[43m        \u001B[49m\u001B[43mgc_after_trial\u001B[49m\u001B[38;5;241;43m=\u001B[39;49m\u001B[43mgc_after_trial\u001B[49m\u001B[43m,\u001B[49m\n\u001B[1;32m    484\u001B[0m \u001B[43m        \u001B[49m\u001B[43mshow_progress_bar\u001B[49m\u001B[38;5;241;43m=\u001B[39;49m\u001B[43mshow_progress_bar\u001B[49m\u001B[43m,\u001B[49m\n\u001B[1;32m    485\u001B[0m \u001B[43m    \u001B[49m\u001B[43m)\u001B[49m\n",
      "File \u001B[0;32m~/Desktop/campus bio iscrizione/ Magistrale/Merone/RL/Reinforcement_Learning_Ant_MuJoCu/venv/lib/python3.10/site-packages/optuna/study/_optimize.py:63\u001B[0m, in \u001B[0;36m_optimize\u001B[0;34m(study, func, n_trials, timeout, n_jobs, catch, callbacks, gc_after_trial, show_progress_bar)\u001B[0m\n\u001B[1;32m     61\u001B[0m \u001B[38;5;28;01mtry\u001B[39;00m:\n\u001B[1;32m     62\u001B[0m     \u001B[38;5;28;01mif\u001B[39;00m n_jobs \u001B[38;5;241m==\u001B[39m \u001B[38;5;241m1\u001B[39m:\n\u001B[0;32m---> 63\u001B[0m         \u001B[43m_optimize_sequential\u001B[49m\u001B[43m(\u001B[49m\n\u001B[1;32m     64\u001B[0m \u001B[43m            \u001B[49m\u001B[43mstudy\u001B[49m\u001B[43m,\u001B[49m\n\u001B[1;32m     65\u001B[0m \u001B[43m            \u001B[49m\u001B[43mfunc\u001B[49m\u001B[43m,\u001B[49m\n\u001B[1;32m     66\u001B[0m \u001B[43m            \u001B[49m\u001B[43mn_trials\u001B[49m\u001B[43m,\u001B[49m\n\u001B[1;32m     67\u001B[0m \u001B[43m            \u001B[49m\u001B[43mtimeout\u001B[49m\u001B[43m,\u001B[49m\n\u001B[1;32m     68\u001B[0m \u001B[43m            \u001B[49m\u001B[43mcatch\u001B[49m\u001B[43m,\u001B[49m\n\u001B[1;32m     69\u001B[0m \u001B[43m            \u001B[49m\u001B[43mcallbacks\u001B[49m\u001B[43m,\u001B[49m\n\u001B[1;32m     70\u001B[0m \u001B[43m            \u001B[49m\u001B[43mgc_after_trial\u001B[49m\u001B[43m,\u001B[49m\n\u001B[1;32m     71\u001B[0m \u001B[43m            \u001B[49m\u001B[43mreseed_sampler_rng\u001B[49m\u001B[38;5;241;43m=\u001B[39;49m\u001B[38;5;28;43;01mFalse\u001B[39;49;00m\u001B[43m,\u001B[49m\n\u001B[1;32m     72\u001B[0m \u001B[43m            \u001B[49m\u001B[43mtime_start\u001B[49m\u001B[38;5;241;43m=\u001B[39;49m\u001B[38;5;28;43;01mNone\u001B[39;49;00m\u001B[43m,\u001B[49m\n\u001B[1;32m     73\u001B[0m \u001B[43m            \u001B[49m\u001B[43mprogress_bar\u001B[49m\u001B[38;5;241;43m=\u001B[39;49m\u001B[43mprogress_bar\u001B[49m\u001B[43m,\u001B[49m\n\u001B[1;32m     74\u001B[0m \u001B[43m        \u001B[49m\u001B[43m)\u001B[49m\n\u001B[1;32m     75\u001B[0m     \u001B[38;5;28;01melse\u001B[39;00m:\n\u001B[1;32m     76\u001B[0m         \u001B[38;5;28;01mif\u001B[39;00m n_jobs \u001B[38;5;241m==\u001B[39m \u001B[38;5;241m-\u001B[39m\u001B[38;5;241m1\u001B[39m:\n",
      "File \u001B[0;32m~/Desktop/campus bio iscrizione/ Magistrale/Merone/RL/Reinforcement_Learning_Ant_MuJoCu/venv/lib/python3.10/site-packages/optuna/study/_optimize.py:160\u001B[0m, in \u001B[0;36m_optimize_sequential\u001B[0;34m(study, func, n_trials, timeout, catch, callbacks, gc_after_trial, reseed_sampler_rng, time_start, progress_bar)\u001B[0m\n\u001B[1;32m    157\u001B[0m         \u001B[38;5;28;01mbreak\u001B[39;00m\n\u001B[1;32m    159\u001B[0m \u001B[38;5;28;01mtry\u001B[39;00m:\n\u001B[0;32m--> 160\u001B[0m     frozen_trial \u001B[38;5;241m=\u001B[39m \u001B[43m_run_trial\u001B[49m\u001B[43m(\u001B[49m\u001B[43mstudy\u001B[49m\u001B[43m,\u001B[49m\u001B[43m \u001B[49m\u001B[43mfunc\u001B[49m\u001B[43m,\u001B[49m\u001B[43m \u001B[49m\u001B[43mcatch\u001B[49m\u001B[43m)\u001B[49m\n\u001B[1;32m    161\u001B[0m \u001B[38;5;28;01mfinally\u001B[39;00m:\n\u001B[1;32m    162\u001B[0m     \u001B[38;5;66;03m# The following line mitigates memory problems that can be occurred in some\u001B[39;00m\n\u001B[1;32m    163\u001B[0m     \u001B[38;5;66;03m# environments (e.g., services that use computing containers such as GitHub Actions).\u001B[39;00m\n\u001B[1;32m    164\u001B[0m     \u001B[38;5;66;03m# Please refer to the following PR for further details:\u001B[39;00m\n\u001B[1;32m    165\u001B[0m     \u001B[38;5;66;03m# https://github.com/optuna/optuna/pull/325.\u001B[39;00m\n\u001B[1;32m    166\u001B[0m     \u001B[38;5;28;01mif\u001B[39;00m gc_after_trial:\n",
      "File \u001B[0;32m~/Desktop/campus bio iscrizione/ Magistrale/Merone/RL/Reinforcement_Learning_Ant_MuJoCu/venv/lib/python3.10/site-packages/optuna/study/_optimize.py:248\u001B[0m, in \u001B[0;36m_run_trial\u001B[0;34m(study, func, catch)\u001B[0m\n\u001B[1;32m    241\u001B[0m         \u001B[38;5;28;01massert\u001B[39;00m \u001B[38;5;28;01mFalse\u001B[39;00m, \u001B[38;5;124m\"\u001B[39m\u001B[38;5;124mShould not reach.\u001B[39m\u001B[38;5;124m\"\u001B[39m\n\u001B[1;32m    243\u001B[0m \u001B[38;5;28;01mif\u001B[39;00m (\n\u001B[1;32m    244\u001B[0m     frozen_trial\u001B[38;5;241m.\u001B[39mstate \u001B[38;5;241m==\u001B[39m TrialState\u001B[38;5;241m.\u001B[39mFAIL\n\u001B[1;32m    245\u001B[0m     \u001B[38;5;129;01mand\u001B[39;00m func_err \u001B[38;5;129;01mis\u001B[39;00m \u001B[38;5;129;01mnot\u001B[39;00m \u001B[38;5;28;01mNone\u001B[39;00m\n\u001B[1;32m    246\u001B[0m     \u001B[38;5;129;01mand\u001B[39;00m \u001B[38;5;129;01mnot\u001B[39;00m \u001B[38;5;28misinstance\u001B[39m(func_err, catch)\n\u001B[1;32m    247\u001B[0m ):\n\u001B[0;32m--> 248\u001B[0m     \u001B[38;5;28;01mraise\u001B[39;00m func_err\n\u001B[1;32m    249\u001B[0m \u001B[38;5;28;01mreturn\u001B[39;00m frozen_trial\n",
      "File \u001B[0;32m~/Desktop/campus bio iscrizione/ Magistrale/Merone/RL/Reinforcement_Learning_Ant_MuJoCu/venv/lib/python3.10/site-packages/optuna/study/_optimize.py:197\u001B[0m, in \u001B[0;36m_run_trial\u001B[0;34m(study, func, catch)\u001B[0m\n\u001B[1;32m    195\u001B[0m \u001B[38;5;28;01mwith\u001B[39;00m get_heartbeat_thread(trial\u001B[38;5;241m.\u001B[39m_trial_id, study\u001B[38;5;241m.\u001B[39m_storage):\n\u001B[1;32m    196\u001B[0m     \u001B[38;5;28;01mtry\u001B[39;00m:\n\u001B[0;32m--> 197\u001B[0m         value_or_values \u001B[38;5;241m=\u001B[39m \u001B[43mfunc\u001B[49m\u001B[43m(\u001B[49m\u001B[43mtrial\u001B[49m\u001B[43m)\u001B[49m\n\u001B[1;32m    198\u001B[0m     \u001B[38;5;28;01mexcept\u001B[39;00m exceptions\u001B[38;5;241m.\u001B[39mTrialPruned \u001B[38;5;28;01mas\u001B[39;00m e:\n\u001B[1;32m    199\u001B[0m         \u001B[38;5;66;03m# TODO(mamu): Handle multi-objective cases.\u001B[39;00m\n\u001B[1;32m    200\u001B[0m         state \u001B[38;5;241m=\u001B[39m TrialState\u001B[38;5;241m.\u001B[39mPRUNED\n",
      "Cell \u001B[0;32mIn[8], line 52\u001B[0m, in \u001B[0;36mobjective\u001B[0;34m(trial)\u001B[0m\n\u001B[1;32m     37\u001B[0m \u001B[38;5;66;03m# Crea ed allena il modello SAC\u001B[39;00m\n\u001B[1;32m     38\u001B[0m model \u001B[38;5;241m=\u001B[39m SAC(\n\u001B[1;32m     39\u001B[0m     \u001B[38;5;124m\"\u001B[39m\u001B[38;5;124mMlpPolicy\u001B[39m\u001B[38;5;124m\"\u001B[39m,\n\u001B[1;32m     40\u001B[0m     env,\n\u001B[0;32m   (...)\u001B[0m\n\u001B[1;32m     49\u001B[0m     verbose\u001B[38;5;241m=\u001B[39m\u001B[38;5;241m0\u001B[39m,\n\u001B[1;32m     50\u001B[0m )\n\u001B[0;32m---> 52\u001B[0m \u001B[43mmodel\u001B[49m\u001B[38;5;241;43m.\u001B[39;49m\u001B[43mlearn\u001B[49m\u001B[43m(\u001B[49m\u001B[43mtotal_timesteps\u001B[49m\u001B[38;5;241;43m=\u001B[39;49m\u001B[38;5;241;43m30_000\u001B[39;49m\u001B[43m)\u001B[49m\n\u001B[1;32m     54\u001B[0m \u001B[38;5;66;03m# Disabilita gli aggiornamenti di normalizzazione per la valutazione\u001B[39;00m\n\u001B[1;32m     55\u001B[0m env\u001B[38;5;241m.\u001B[39mtraining \u001B[38;5;241m=\u001B[39m \u001B[38;5;28;01mFalse\u001B[39;00m\n",
      "File \u001B[0;32m~/Desktop/campus bio iscrizione/ Magistrale/Merone/RL/Reinforcement_Learning_Ant_MuJoCu/venv/lib/python3.10/site-packages/stable_baselines3/sac/sac.py:307\u001B[0m, in \u001B[0;36mSAC.learn\u001B[0;34m(self, total_timesteps, callback, log_interval, tb_log_name, reset_num_timesteps, progress_bar)\u001B[0m\n\u001B[1;32m    298\u001B[0m \u001B[38;5;28;01mdef\u001B[39;00m\u001B[38;5;250m \u001B[39m\u001B[38;5;21mlearn\u001B[39m(\n\u001B[1;32m    299\u001B[0m     \u001B[38;5;28mself\u001B[39m: SelfSAC,\n\u001B[1;32m    300\u001B[0m     total_timesteps: \u001B[38;5;28mint\u001B[39m,\n\u001B[0;32m   (...)\u001B[0m\n\u001B[1;32m    305\u001B[0m     progress_bar: \u001B[38;5;28mbool\u001B[39m \u001B[38;5;241m=\u001B[39m \u001B[38;5;28;01mFalse\u001B[39;00m,\n\u001B[1;32m    306\u001B[0m ) \u001B[38;5;241m-\u001B[39m\u001B[38;5;241m>\u001B[39m SelfSAC:\n\u001B[0;32m--> 307\u001B[0m     \u001B[38;5;28;01mreturn\u001B[39;00m \u001B[38;5;28;43msuper\u001B[39;49m\u001B[43m(\u001B[49m\u001B[43m)\u001B[49m\u001B[38;5;241;43m.\u001B[39;49m\u001B[43mlearn\u001B[49m\u001B[43m(\u001B[49m\n\u001B[1;32m    308\u001B[0m \u001B[43m        \u001B[49m\u001B[43mtotal_timesteps\u001B[49m\u001B[38;5;241;43m=\u001B[39;49m\u001B[43mtotal_timesteps\u001B[49m\u001B[43m,\u001B[49m\n\u001B[1;32m    309\u001B[0m \u001B[43m        \u001B[49m\u001B[43mcallback\u001B[49m\u001B[38;5;241;43m=\u001B[39;49m\u001B[43mcallback\u001B[49m\u001B[43m,\u001B[49m\n\u001B[1;32m    310\u001B[0m \u001B[43m        \u001B[49m\u001B[43mlog_interval\u001B[49m\u001B[38;5;241;43m=\u001B[39;49m\u001B[43mlog_interval\u001B[49m\u001B[43m,\u001B[49m\n\u001B[1;32m    311\u001B[0m \u001B[43m        \u001B[49m\u001B[43mtb_log_name\u001B[49m\u001B[38;5;241;43m=\u001B[39;49m\u001B[43mtb_log_name\u001B[49m\u001B[43m,\u001B[49m\n\u001B[1;32m    312\u001B[0m \u001B[43m        \u001B[49m\u001B[43mreset_num_timesteps\u001B[49m\u001B[38;5;241;43m=\u001B[39;49m\u001B[43mreset_num_timesteps\u001B[49m\u001B[43m,\u001B[49m\n\u001B[1;32m    313\u001B[0m \u001B[43m        \u001B[49m\u001B[43mprogress_bar\u001B[49m\u001B[38;5;241;43m=\u001B[39;49m\u001B[43mprogress_bar\u001B[49m\u001B[43m,\u001B[49m\n\u001B[1;32m    314\u001B[0m \u001B[43m    \u001B[49m\u001B[43m)\u001B[49m\n",
      "File \u001B[0;32m~/Desktop/campus bio iscrizione/ Magistrale/Merone/RL/Reinforcement_Learning_Ant_MuJoCu/venv/lib/python3.10/site-packages/stable_baselines3/common/off_policy_algorithm.py:347\u001B[0m, in \u001B[0;36mOffPolicyAlgorithm.learn\u001B[0;34m(self, total_timesteps, callback, log_interval, tb_log_name, reset_num_timesteps, progress_bar)\u001B[0m\n\u001B[1;32m    345\u001B[0m         \u001B[38;5;66;03m# Special case when the user passes `gradient_steps=0`\u001B[39;00m\n\u001B[1;32m    346\u001B[0m         \u001B[38;5;28;01mif\u001B[39;00m gradient_steps \u001B[38;5;241m>\u001B[39m \u001B[38;5;241m0\u001B[39m:\n\u001B[0;32m--> 347\u001B[0m             \u001B[38;5;28;43mself\u001B[39;49m\u001B[38;5;241;43m.\u001B[39;49m\u001B[43mtrain\u001B[49m\u001B[43m(\u001B[49m\u001B[43mbatch_size\u001B[49m\u001B[38;5;241;43m=\u001B[39;49m\u001B[38;5;28;43mself\u001B[39;49m\u001B[38;5;241;43m.\u001B[39;49m\u001B[43mbatch_size\u001B[49m\u001B[43m,\u001B[49m\u001B[43m \u001B[49m\u001B[43mgradient_steps\u001B[49m\u001B[38;5;241;43m=\u001B[39;49m\u001B[43mgradient_steps\u001B[49m\u001B[43m)\u001B[49m\n\u001B[1;32m    349\u001B[0m callback\u001B[38;5;241m.\u001B[39mon_training_end()\n\u001B[1;32m    351\u001B[0m \u001B[38;5;28;01mreturn\u001B[39;00m \u001B[38;5;28mself\u001B[39m\n",
      "File \u001B[0;32m~/Desktop/campus bio iscrizione/ Magistrale/Merone/RL/Reinforcement_Learning_Ant_MuJoCu/venv/lib/python3.10/site-packages/stable_baselines3/sac/sac.py:247\u001B[0m, in \u001B[0;36mSAC.train\u001B[0;34m(self, gradient_steps, batch_size)\u001B[0m\n\u001B[1;32m    243\u001B[0m     \u001B[38;5;28mself\u001B[39m\u001B[38;5;241m.\u001B[39ment_coef_optimizer\u001B[38;5;241m.\u001B[39mstep()\n\u001B[1;32m    245\u001B[0m \u001B[38;5;28;01mwith\u001B[39;00m th\u001B[38;5;241m.\u001B[39mno_grad():\n\u001B[1;32m    246\u001B[0m     \u001B[38;5;66;03m# Select action according to policy\u001B[39;00m\n\u001B[0;32m--> 247\u001B[0m     next_actions, next_log_prob \u001B[38;5;241m=\u001B[39m \u001B[38;5;28;43mself\u001B[39;49m\u001B[38;5;241;43m.\u001B[39;49m\u001B[43mactor\u001B[49m\u001B[38;5;241;43m.\u001B[39;49m\u001B[43maction_log_prob\u001B[49m\u001B[43m(\u001B[49m\u001B[43mreplay_data\u001B[49m\u001B[38;5;241;43m.\u001B[39;49m\u001B[43mnext_observations\u001B[49m\u001B[43m)\u001B[49m\n\u001B[1;32m    248\u001B[0m     \u001B[38;5;66;03m# Compute the next Q values: min over all critics targets\u001B[39;00m\n\u001B[1;32m    249\u001B[0m     next_q_values \u001B[38;5;241m=\u001B[39m th\u001B[38;5;241m.\u001B[39mcat(\u001B[38;5;28mself\u001B[39m\u001B[38;5;241m.\u001B[39mcritic_target(replay_data\u001B[38;5;241m.\u001B[39mnext_observations, next_actions), dim\u001B[38;5;241m=\u001B[39m\u001B[38;5;241m1\u001B[39m)\n",
      "File \u001B[0;32m~/Desktop/campus bio iscrizione/ Magistrale/Merone/RL/Reinforcement_Learning_Ant_MuJoCu/venv/lib/python3.10/site-packages/stable_baselines3/sac/policies.py:175\u001B[0m, in \u001B[0;36mActor.action_log_prob\u001B[0;34m(self, obs)\u001B[0m\n\u001B[1;32m    173\u001B[0m mean_actions, log_std, kwargs \u001B[38;5;241m=\u001B[39m \u001B[38;5;28mself\u001B[39m\u001B[38;5;241m.\u001B[39mget_action_dist_params(obs)\n\u001B[1;32m    174\u001B[0m \u001B[38;5;66;03m# return action and associated log prob\u001B[39;00m\n\u001B[0;32m--> 175\u001B[0m \u001B[38;5;28;01mreturn\u001B[39;00m \u001B[38;5;28;43mself\u001B[39;49m\u001B[38;5;241;43m.\u001B[39;49m\u001B[43maction_dist\u001B[49m\u001B[38;5;241;43m.\u001B[39;49m\u001B[43mlog_prob_from_params\u001B[49m\u001B[43m(\u001B[49m\u001B[43mmean_actions\u001B[49m\u001B[43m,\u001B[49m\u001B[43m \u001B[49m\u001B[43mlog_std\u001B[49m\u001B[43m,\u001B[49m\u001B[43m \u001B[49m\u001B[38;5;241;43m*\u001B[39;49m\u001B[38;5;241;43m*\u001B[39;49m\u001B[43mkwargs\u001B[49m\u001B[43m)\u001B[49m\n",
      "File \u001B[0;32m~/Desktop/campus bio iscrizione/ Magistrale/Merone/RL/Reinforcement_Learning_Ant_MuJoCu/venv/lib/python3.10/site-packages/stable_baselines3/common/distributions.py:258\u001B[0m, in \u001B[0;36mSquashedDiagGaussianDistribution.log_prob_from_params\u001B[0;34m(self, mean_actions, log_std)\u001B[0m\n\u001B[1;32m    257\u001B[0m \u001B[38;5;28;01mdef\u001B[39;00m\u001B[38;5;250m \u001B[39m\u001B[38;5;21mlog_prob_from_params\u001B[39m(\u001B[38;5;28mself\u001B[39m, mean_actions: th\u001B[38;5;241m.\u001B[39mTensor, log_std: th\u001B[38;5;241m.\u001B[39mTensor) \u001B[38;5;241m-\u001B[39m\u001B[38;5;241m>\u001B[39m \u001B[38;5;28mtuple\u001B[39m[th\u001B[38;5;241m.\u001B[39mTensor, th\u001B[38;5;241m.\u001B[39mTensor]:\n\u001B[0;32m--> 258\u001B[0m     action \u001B[38;5;241m=\u001B[39m \u001B[38;5;28;43mself\u001B[39;49m\u001B[38;5;241;43m.\u001B[39;49m\u001B[43mactions_from_params\u001B[49m\u001B[43m(\u001B[49m\u001B[43mmean_actions\u001B[49m\u001B[43m,\u001B[49m\u001B[43m \u001B[49m\u001B[43mlog_std\u001B[49m\u001B[43m)\u001B[49m\n\u001B[1;32m    259\u001B[0m     log_prob \u001B[38;5;241m=\u001B[39m \u001B[38;5;28mself\u001B[39m\u001B[38;5;241m.\u001B[39mlog_prob(action, \u001B[38;5;28mself\u001B[39m\u001B[38;5;241m.\u001B[39mgaussian_actions)\n\u001B[1;32m    260\u001B[0m     \u001B[38;5;28;01mreturn\u001B[39;00m action, log_prob\n",
      "File \u001B[0;32m~/Desktop/campus bio iscrizione/ Magistrale/Merone/RL/Reinforcement_Learning_Ant_MuJoCu/venv/lib/python3.10/site-packages/stable_baselines3/common/distributions.py:190\u001B[0m, in \u001B[0;36mDiagGaussianDistribution.actions_from_params\u001B[0;34m(self, mean_actions, log_std, deterministic)\u001B[0m\n\u001B[1;32m    188\u001B[0m \u001B[38;5;28;01mdef\u001B[39;00m\u001B[38;5;250m \u001B[39m\u001B[38;5;21mactions_from_params\u001B[39m(\u001B[38;5;28mself\u001B[39m, mean_actions: th\u001B[38;5;241m.\u001B[39mTensor, log_std: th\u001B[38;5;241m.\u001B[39mTensor, deterministic: \u001B[38;5;28mbool\u001B[39m \u001B[38;5;241m=\u001B[39m \u001B[38;5;28;01mFalse\u001B[39;00m) \u001B[38;5;241m-\u001B[39m\u001B[38;5;241m>\u001B[39m th\u001B[38;5;241m.\u001B[39mTensor:\n\u001B[1;32m    189\u001B[0m     \u001B[38;5;66;03m# Update the proba distribution\u001B[39;00m\n\u001B[0;32m--> 190\u001B[0m     \u001B[38;5;28;43mself\u001B[39;49m\u001B[38;5;241;43m.\u001B[39;49m\u001B[43mproba_distribution\u001B[49m\u001B[43m(\u001B[49m\u001B[43mmean_actions\u001B[49m\u001B[43m,\u001B[49m\u001B[43m \u001B[49m\u001B[43mlog_std\u001B[49m\u001B[43m)\u001B[49m\n\u001B[1;32m    191\u001B[0m     \u001B[38;5;28;01mreturn\u001B[39;00m \u001B[38;5;28mself\u001B[39m\u001B[38;5;241m.\u001B[39mget_actions(deterministic\u001B[38;5;241m=\u001B[39mdeterministic)\n",
      "File \u001B[0;32m~/Desktop/campus bio iscrizione/ Magistrale/Merone/RL/Reinforcement_Learning_Ant_MuJoCu/venv/lib/python3.10/site-packages/stable_baselines3/common/distributions.py:224\u001B[0m, in \u001B[0;36mSquashedDiagGaussianDistribution.proba_distribution\u001B[0;34m(self, mean_actions, log_std)\u001B[0m\n\u001B[1;32m    221\u001B[0m \u001B[38;5;28;01mdef\u001B[39;00m\u001B[38;5;250m \u001B[39m\u001B[38;5;21mproba_distribution\u001B[39m(\n\u001B[1;32m    222\u001B[0m     \u001B[38;5;28mself\u001B[39m: SelfSquashedDiagGaussianDistribution, mean_actions: th\u001B[38;5;241m.\u001B[39mTensor, log_std: th\u001B[38;5;241m.\u001B[39mTensor\n\u001B[1;32m    223\u001B[0m ) \u001B[38;5;241m-\u001B[39m\u001B[38;5;241m>\u001B[39m SelfSquashedDiagGaussianDistribution:\n\u001B[0;32m--> 224\u001B[0m     \u001B[38;5;28;43msuper\u001B[39;49m\u001B[43m(\u001B[49m\u001B[43m)\u001B[49m\u001B[38;5;241;43m.\u001B[39;49m\u001B[43mproba_distribution\u001B[49m\u001B[43m(\u001B[49m\u001B[43mmean_actions\u001B[49m\u001B[43m,\u001B[49m\u001B[43m \u001B[49m\u001B[43mlog_std\u001B[49m\u001B[43m)\u001B[49m\n\u001B[1;32m    225\u001B[0m     \u001B[38;5;28;01mreturn\u001B[39;00m \u001B[38;5;28mself\u001B[39m\n",
      "File \u001B[0;32m~/Desktop/campus bio iscrizione/ Magistrale/Merone/RL/Reinforcement_Learning_Ant_MuJoCu/venv/lib/python3.10/site-packages/stable_baselines3/common/distributions.py:164\u001B[0m, in \u001B[0;36mDiagGaussianDistribution.proba_distribution\u001B[0;34m(self, mean_actions, log_std)\u001B[0m\n\u001B[1;32m    156\u001B[0m \u001B[38;5;250m\u001B[39m\u001B[38;5;124;03m\"\"\"\u001B[39;00m\n\u001B[1;32m    157\u001B[0m \u001B[38;5;124;03mCreate the distribution given its parameters (mean, std)\u001B[39;00m\n\u001B[1;32m    158\u001B[0m \n\u001B[0;32m   (...)\u001B[0m\n\u001B[1;32m    161\u001B[0m \u001B[38;5;124;03m:return:\u001B[39;00m\n\u001B[1;32m    162\u001B[0m \u001B[38;5;124;03m\"\"\"\u001B[39;00m\n\u001B[1;32m    163\u001B[0m action_std \u001B[38;5;241m=\u001B[39m th\u001B[38;5;241m.\u001B[39mones_like(mean_actions) \u001B[38;5;241m*\u001B[39m log_std\u001B[38;5;241m.\u001B[39mexp()\n\u001B[0;32m--> 164\u001B[0m \u001B[38;5;28mself\u001B[39m\u001B[38;5;241m.\u001B[39mdistribution \u001B[38;5;241m=\u001B[39m \u001B[43mNormal\u001B[49m\u001B[43m(\u001B[49m\u001B[43mmean_actions\u001B[49m\u001B[43m,\u001B[49m\u001B[43m \u001B[49m\u001B[43maction_std\u001B[49m\u001B[43m)\u001B[49m\n\u001B[1;32m    165\u001B[0m \u001B[38;5;28;01mreturn\u001B[39;00m \u001B[38;5;28mself\u001B[39m\n",
      "File \u001B[0;32m~/Desktop/campus bio iscrizione/ Magistrale/Merone/RL/Reinforcement_Learning_Ant_MuJoCu/venv/lib/python3.10/site-packages/torch/distributions/normal.py:55\u001B[0m, in \u001B[0;36mNormal.__init__\u001B[0;34m(self, loc, scale, validate_args)\u001B[0m\n\u001B[1;32m     53\u001B[0m \u001B[38;5;28;01mdef\u001B[39;00m\u001B[38;5;250m \u001B[39m\u001B[38;5;21m__init__\u001B[39m(\u001B[38;5;28mself\u001B[39m, loc, scale, validate_args\u001B[38;5;241m=\u001B[39m\u001B[38;5;28;01mNone\u001B[39;00m):\n\u001B[1;32m     54\u001B[0m     \u001B[38;5;28mself\u001B[39m\u001B[38;5;241m.\u001B[39mloc, \u001B[38;5;28mself\u001B[39m\u001B[38;5;241m.\u001B[39mscale \u001B[38;5;241m=\u001B[39m broadcast_all(loc, scale)\n\u001B[0;32m---> 55\u001B[0m     \u001B[38;5;28;01mif\u001B[39;00m \u001B[38;5;28;43misinstance\u001B[39;49m\u001B[43m(\u001B[49m\u001B[43mloc\u001B[49m\u001B[43m,\u001B[49m\u001B[43m \u001B[49m\u001B[43mNumber\u001B[49m\u001B[43m)\u001B[49m \u001B[38;5;129;01mand\u001B[39;00m \u001B[38;5;28misinstance\u001B[39m(scale, Number):\n\u001B[1;32m     56\u001B[0m         batch_shape \u001B[38;5;241m=\u001B[39m torch\u001B[38;5;241m.\u001B[39mSize()\n\u001B[1;32m     57\u001B[0m     \u001B[38;5;28;01melse\u001B[39;00m:\n",
      "File \u001B[0;32m/opt/homebrew/Cellar/python@3.10/3.10.16/Frameworks/Python.framework/Versions/3.10/lib/python3.10/abc.py:117\u001B[0m, in \u001B[0;36mABCMeta.__instancecheck__\u001B[0;34m(cls, instance)\u001B[0m\n\u001B[1;32m    111\u001B[0m \u001B[38;5;250m    \u001B[39m\u001B[38;5;124;03m\"\"\"Register a virtual subclass of an ABC.\u001B[39;00m\n\u001B[1;32m    112\u001B[0m \n\u001B[1;32m    113\u001B[0m \u001B[38;5;124;03m    Returns the subclass, to allow usage as a class decorator.\u001B[39;00m\n\u001B[1;32m    114\u001B[0m \u001B[38;5;124;03m    \"\"\"\u001B[39;00m\n\u001B[1;32m    115\u001B[0m     \u001B[38;5;28;01mreturn\u001B[39;00m _abc_register(\u001B[38;5;28mcls\u001B[39m, subclass)\n\u001B[0;32m--> 117\u001B[0m \u001B[38;5;28;01mdef\u001B[39;00m\u001B[38;5;250m \u001B[39m\u001B[38;5;21m__instancecheck__\u001B[39m(\u001B[38;5;28mcls\u001B[39m, instance):\n\u001B[1;32m    118\u001B[0m \u001B[38;5;250m    \u001B[39m\u001B[38;5;124;03m\"\"\"Override for isinstance(instance, cls).\"\"\"\u001B[39;00m\n\u001B[1;32m    119\u001B[0m     \u001B[38;5;28;01mreturn\u001B[39;00m _abc_instancecheck(\u001B[38;5;28mcls\u001B[39m, instance)\n",
      "\u001B[0;31mKeyboardInterrupt\u001B[0m: "
     ]
    }
   ],
   "source": [
    "def make_env(reset_noise_scale, forward_reward_weight, ctrl_cost_weight):\n",
    "    \"\"\"\n",
    "    Crea e restituisce l'ambiente HalfCheetah-v5 con i parametri specificati per il training.\n",
    "\n",
    "    L'ambiente viene configurato con i seguenti parametri:\n",
    "    - reset_noise_scale: Controlla la quantità di rumore aggiunto alle osservazioni durante il reset.\n",
    "    - forward_reward_weight: Peso dato alla ricompensa per il movimento in avanti.\n",
    "    - ctrl_cost_weight: Peso della penalità sul controllo delle azioni (e.g., per evitare movimenti eccessivi).\n",
    "\n",
    "    Parametri:\n",
    "    - reset_noise_scale: Scala per il rumore di reset.\n",
    "    - forward_reward_weight: Peso per la ricompensa del movimento in avanti.\n",
    "    - ctrl_cost_weight: Peso per il costo del controllo.\n",
    "\n",
    "    Ritorna:\n",
    "    - env: L'ambiente HalfCheetah-v5 configurato con i parametri specificati.\n",
    "    \"\"\"\n",
    "    return gym.make(\"HalfCheetah-v5\", \n",
    "                    reset_noise_scale=reset_noise_scale, \n",
    "                    forward_reward_weight=forward_reward_weight, \n",
    "                    ctrl_cost_weight=ctrl_cost_weight)\n",
    "\n",
    "# Funzione di obiettivo per l'ottimizzazione con Optuna\n",
    "def objective(trial):\n",
    "    \"\"\"\n",
    "    Obiettivo per la ricerca degli iperparametri usando Optuna.\n",
    "\n",
    "    Utilizza il framework Optuna per ottimizzare i parametri dell'ambiente HalfCheetah-v5\n",
    "    e del modello SAC. Adatta automaticamente i seguenti parametri:\n",
    "    - Iperparametri dell'ambiente\n",
    "    - Iperparametri del modello SAC\n",
    "\n",
    "    Parametri:\n",
    "    - trial: Oggetto che rappresenta una singola prova per l'ottimizzazione. \n",
    "             Viene utilizzato per suggerire diversi valori di iperparametri.\n",
    "\n",
    "    Ritorna:\n",
    "    - mean_reward: Ricompensa media ottenuta dal modello durante la valutazione (valore di ritorno per l'ottimizzazione).\n",
    "    \"\"\"\n",
    "    # Parametri dell'environment suggeriti da Optuna\n",
    "    reset_noise_scale = trial.suggest_float('reset_noise_scale', 0.005, 0.3)  # Scala del rumore di reset\n",
    "    forward_reward_weight = trial.suggest_float('forward_reward_weight', 0.7, 1.5)  # Peso per il movimento in avanti\n",
    "    ctrl_cost_weight = trial.suggest_float('ctrl_cost_weight', 0.02, 0.3)  # Penalità sul controllo\n",
    "\n",
    "    # Crea l'ambiente con i parametri suggeriti\n",
    "    env = make_env(reset_noise_scale, forward_reward_weight, ctrl_cost_weight)\n",
    "    env = DummyVecEnv([lambda: env])  # Avvolge l'ambiente in un VecEnv per eseguire training parallelo\n",
    "    env = VecNormalize(env, norm_obs=True, norm_reward=True, clip_obs=10.)\n",
    "\n",
    "    # Iperparametri per il modello SAC suggeriti da Optuna\n",
    "    learning_rate = trial.suggest_loguniform('learning_rate', 1e-6, 1e-3)  # Raggio di apprendimento\n",
    "    buffer_size = trial.suggest_categorical('buffer_size', [100000, 300000, 500000])  # Dimensione del buffer di esperienza\n",
    "    batch_size = trial.suggest_categorical('batch_size', [64, 128, 256, 512])  # Dimensione del batch per il training\n",
    "    tau = trial.suggest_float('tau', 0.005, 0.02)  # Parametro di soft update per gli obiettivi\n",
    "    gamma = trial.suggest_float('gamma', 0.95, 0.9999)  # Fattore di sconto per le ricompense future\n",
    "\n",
    "    # Parametro di entropia, può essere auto-adattato o fissato a un valore specifico\n",
    "    ent_coef = trial.suggest_categorical('ent_coef', ['auto', 0.001, 0.01, 0.05])\n",
    "\n",
    "    # Frequenza di training e passaggi di gradiente\n",
    "    train_freq = trial.suggest_categorical('train_freq', [1, 64, 256, 512])  # Frequenza degli aggiornamenti\n",
    "    gradient_steps = trial.suggest_categorical('gradient_steps', [1, 8, 16, 32])  # Numero di passaggi di gradiente\n",
    "\n",
    "    # Crea il modello SAC con i parametri suggeriti\n",
    "    model = SAC(\n",
    "        \"MlpPolicy\",  # Politica basata su MLP (Multilayer Perceptron)\n",
    "        env,\n",
    "        learning_rate=learning_rate,\n",
    "        buffer_size=buffer_size,\n",
    "        batch_size=batch_size,\n",
    "        tau=tau,\n",
    "        gamma=gamma,\n",
    "        train_freq=train_freq,\n",
    "        gradient_steps=gradient_steps,\n",
    "        ent_coef=ent_coef,\n",
    "        verbose=0,\n",
    "    )\n",
    "\n",
    "    # Allena il modello per un numero di timesteps\n",
    "    model.learn(total_timesteps=30_000)\n",
    "\n",
    "    # Disabilita la normalizzazione durante la valutazione\n",
    "    env.training = False\n",
    "    env.norm_reward = False\n",
    "\n",
    "    # Valuta il modello su 60 episodi in modalità deterministica\n",
    "    mean_reward, _ = evaluate_policy(model, env, n_eval_episodes=60, deterministic=True)\n",
    "\n",
    "    # Restituisce la ricompensa media per ottimizzare l'algoritmo di Optuna\n",
    "    print(f'Mean reward: {mean_reward}')\n",
    "    return mean_reward\n",
    "\n",
    "# Crea uno studio di ricerca degli iperparametri utilizzando Optuna\n",
    "study = optuna.create_study(direction='maximize')  # L'obiettivo è massimizzare la ricompensa media\n",
    "study.optimize(objective, n_trials=40)  # Ottimizza l'obiettivo per 40 prove\n",
    "\n",
    "# Stampa i migliori iperparametri trovati\n",
    "print(\"Best hyperparameters:\", study.best_params)"
   ]
  }
 ],
 "metadata": {
  "kernelspec": {
   "display_name": "venv",
   "language": "python",
   "name": "python3"
  },
  "language_info": {
   "codemirror_mode": {
    "name": "ipython",
    "version": 3
   },
   "file_extension": ".py",
   "mimetype": "text/x-python",
   "name": "python",
   "nbconvert_exporter": "python",
   "pygments_lexer": "ipython3",
   "version": "3.10.16"
  }
 },
 "nbformat": 4,
 "nbformat_minor": 2
}
